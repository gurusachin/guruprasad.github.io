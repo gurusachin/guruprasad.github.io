{
  "nbformat": 4,
  "nbformat_minor": 0,
  "metadata": {
    "colab": {
      "provenance": [],
      "include_colab_link": true
    },
    "kernelspec": {
      "name": "python3",
      "display_name": "Python 3"
    },
    "language_info": {
      "name": "python"
    },
    "accelerator": "GPU",
    "gpuClass": "standard"
  },
  "cells": [
    {
      "cell_type": "markdown",
      "metadata": {
        "id": "view-in-github",
        "colab_type": "text"
      },
      "source": [
        "<a href=\"https://colab.research.google.com/github/gurusachin/guruprasad.github.io/blob/master/9_Link_Prediction_on_MovieLens.ipynb\" target=\"_parent\"><img src=\"https://colab.research.google.com/assets/colab-badge.svg\" alt=\"Open In Colab\"/></a>"
      ]
    },
    {
      "cell_type": "code",
      "source": [
        "import torch\n",
        "from torch import Tensor\n",
        "print(torch.__version__)"
      ],
      "metadata": {
        "colab": {
          "base_uri": "https://localhost:8080/"
        },
        "id": "uh7LaSzfwcj2",
        "outputId": "61b276fb-3c62-450f-aeb4-a3fb585c46ac"
      },
      "execution_count": 6,
      "outputs": [
        {
          "output_type": "stream",
          "name": "stdout",
          "text": [
            "2.0.0+cu118\n"
          ]
        }
      ]
    },
    {
      "cell_type": "code",
      "execution_count": 7,
      "metadata": {
        "id": "AsWUrVh7vZtM",
        "colab": {
          "base_uri": "https://localhost:8080/"
        },
        "outputId": "953a1770-41a8-462b-869b-37e1c92eb3fb"
      },
      "outputs": [
        {
          "output_type": "stream",
          "name": "stdout",
          "text": [
            "Looking in indexes: https://pypi.org/simple, https://us-python.pkg.dev/colab-wheels/public/simple/\n",
            "Looking in links: https://data.pyg.org/whl/torch-2.0.0+cu118.html\n",
            "Collecting torch-scatter\n",
            "  Downloading https://data.pyg.org/whl/torch-2.0.0%2Bcu118/torch_scatter-2.1.1%2Bpt20cu118-cp310-cp310-linux_x86_64.whl (10.2 MB)\n",
            "\u001b[2K     \u001b[90m━━━━━━━━━━━━━━━━━━━━━━━━━━━━━━━━━━━━━━━━\u001b[0m \u001b[32m10.2/10.2 MB\u001b[0m \u001b[31m66.4 MB/s\u001b[0m eta \u001b[36m0:00:00\u001b[0m\n",
            "\u001b[?25hInstalling collected packages: torch-scatter\n",
            "Successfully installed torch-scatter-2.1.1+pt20cu118\n",
            "Looking in indexes: https://pypi.org/simple, https://us-python.pkg.dev/colab-wheels/public/simple/\n",
            "Looking in links: https://data.pyg.org/whl/torch-2.0.0+cu118.html\n",
            "Collecting torch-sparse\n",
            "  Downloading https://data.pyg.org/whl/torch-2.0.0%2Bcu118/torch_sparse-0.6.17%2Bpt20cu118-cp310-cp310-linux_x86_64.whl (4.8 MB)\n",
            "\u001b[2K     \u001b[90m━━━━━━━━━━━━━━━━━━━━━━━━━━━━━━━━━━━━━━━━\u001b[0m \u001b[32m4.8/4.8 MB\u001b[0m \u001b[31m47.3 MB/s\u001b[0m eta \u001b[36m0:00:00\u001b[0m\n",
            "\u001b[?25hRequirement already satisfied: scipy in /usr/local/lib/python3.10/dist-packages (from torch-sparse) (1.10.1)\n",
            "Requirement already satisfied: numpy<1.27.0,>=1.19.5 in /usr/local/lib/python3.10/dist-packages (from scipy->torch-sparse) (1.22.4)\n",
            "Installing collected packages: torch-sparse\n",
            "Successfully installed torch-sparse-0.6.17+pt20cu118\n",
            "Looking in indexes: https://pypi.org/simple, https://us-python.pkg.dev/colab-wheels/public/simple/\n",
            "Looking in links: https://data.pyg.org/whl/nightly/torch-2.0.0+cu118.html\n",
            "Collecting pyg-lib\n",
            "  Downloading https://data.pyg.org/whl/nightly/torch-2.0.0%2Bcu118/pyg_lib-0.2.0.dev20230504%2Bpt20cu118-cp310-cp310-linux_x86_64.whl (1.9 MB)\n",
            "\u001b[2K     \u001b[90m━━━━━━━━━━━━━━━━━━━━━━━━━━━━━━━━━━━━━━━━\u001b[0m \u001b[32m1.9/1.9 MB\u001b[0m \u001b[31m26.6 MB/s\u001b[0m eta \u001b[36m0:00:00\u001b[0m\n",
            "\u001b[?25hInstalling collected packages: pyg-lib\n",
            "Successfully installed pyg-lib-0.2.0.dev20230504+pt20cu118\n",
            "Looking in indexes: https://pypi.org/simple, https://us-python.pkg.dev/colab-wheels/public/simple/\n",
            "Collecting git+https://github.com/pyg-team/pytorch_geometric.git\n",
            "  Cloning https://github.com/pyg-team/pytorch_geometric.git to /tmp/pip-req-build-3a12aeam\n",
            "  Running command git clone --filter=blob:none --quiet https://github.com/pyg-team/pytorch_geometric.git /tmp/pip-req-build-3a12aeam\n",
            "  Resolved https://github.com/pyg-team/pytorch_geometric.git to commit 356a62ac8039e55fd049b322b4dc98f87fe53647\n",
            "  Installing build dependencies ... \u001b[?25l\u001b[?25hdone\n",
            "  Getting requirements to build wheel ... \u001b[?25l\u001b[?25hdone\n",
            "  Preparing metadata (pyproject.toml) ... \u001b[?25l\u001b[?25hdone\n",
            "Requirement already satisfied: numpy in /usr/local/lib/python3.10/dist-packages (from torch_geometric==2.4.0) (1.22.4)\n",
            "Requirement already satisfied: pyparsing in /usr/local/lib/python3.10/dist-packages (from torch_geometric==2.4.0) (3.0.9)\n",
            "Requirement already satisfied: scipy in /usr/local/lib/python3.10/dist-packages (from torch_geometric==2.4.0) (1.10.1)\n",
            "Requirement already satisfied: requests in /usr/local/lib/python3.10/dist-packages (from torch_geometric==2.4.0) (2.27.1)\n",
            "Requirement already satisfied: scikit-learn in /usr/local/lib/python3.10/dist-packages (from torch_geometric==2.4.0) (1.2.2)\n",
            "Requirement already satisfied: psutil>=5.8.0 in /usr/local/lib/python3.10/dist-packages (from torch_geometric==2.4.0) (5.9.5)\n",
            "Requirement already satisfied: jinja2 in /usr/local/lib/python3.10/dist-packages (from torch_geometric==2.4.0) (3.1.2)\n",
            "Requirement already satisfied: tqdm in /usr/local/lib/python3.10/dist-packages (from torch_geometric==2.4.0) (4.65.0)\n",
            "Requirement already satisfied: MarkupSafe>=2.0 in /usr/local/lib/python3.10/dist-packages (from jinja2->torch_geometric==2.4.0) (2.1.2)\n",
            "Requirement already satisfied: urllib3<1.27,>=1.21.1 in /usr/local/lib/python3.10/dist-packages (from requests->torch_geometric==2.4.0) (1.26.15)\n",
            "Requirement already satisfied: certifi>=2017.4.17 in /usr/local/lib/python3.10/dist-packages (from requests->torch_geometric==2.4.0) (2022.12.7)\n",
            "Requirement already satisfied: idna<4,>=2.5 in /usr/local/lib/python3.10/dist-packages (from requests->torch_geometric==2.4.0) (3.4)\n",
            "Requirement already satisfied: charset-normalizer~=2.0.0 in /usr/local/lib/python3.10/dist-packages (from requests->torch_geometric==2.4.0) (2.0.12)\n",
            "Requirement already satisfied: threadpoolctl>=2.0.0 in /usr/local/lib/python3.10/dist-packages (from scikit-learn->torch_geometric==2.4.0) (3.1.0)\n",
            "Requirement already satisfied: joblib>=1.1.1 in /usr/local/lib/python3.10/dist-packages (from scikit-learn->torch_geometric==2.4.0) (1.2.0)\n",
            "Building wheels for collected packages: torch_geometric\n",
            "  Building wheel for torch_geometric (pyproject.toml) ... \u001b[?25l\u001b[?25hdone\n",
            "  Created wheel for torch_geometric: filename=torch_geometric-2.4.0-py3-none-any.whl size=925249 sha256=16f0c12a051aac703f97ceb0ebbebc3ea184c9fecbe1f10a3a90618305feaef3\n",
            "  Stored in directory: /tmp/pip-ephem-wheel-cache-sxfot82q/wheels/d3/78/eb/9e26525b948d19533f1688fb6c209cec8a0ba793d39b49ae8f\n",
            "Successfully built torch_geometric\n",
            "Installing collected packages: torch_geometric\n",
            "Successfully installed torch_geometric-2.4.0\n"
          ]
        }
      ],
      "source": [
        "# Install required packages.\n",
        "import os\n",
        "os.environ['TORCH'] = torch.__version__\n",
        "\n",
        "!pip install torch-scatter -f https://data.pyg.org/whl/torch-${TORCH}.html\n",
        "!pip install torch-sparse -f https://data.pyg.org/whl/torch-${TORCH}.html\n",
        "!pip install pyg-lib -f https://data.pyg.org/whl/nightly/torch-${TORCH}.html\n",
        "!pip install git+https://github.com/pyg-team/pytorch_geometric.git"
      ]
    },
    {
      "cell_type": "markdown",
      "source": [
        "# Link Prediction on MovieLens\n",
        "\n",
        "This colab notebook shows how to load a set of `*.csv` files as input and construct a heterogeneous graph from it.\n",
        "We will then use this dataset as input into a [heterogeneous graph model](https://pytorch-geometric.readthedocs.io/en/latest/notes/heterogeneous.html#hgtutorial), and use it for the task of link prediction.\n",
        "A few code cells require user input to let the code run through successfully.\n",
        "Parts of this tutorial are also available in [our documentation](https://pytorch-geometric.readthedocs.io/en/latest/notes/load_csv.html).\n",
        "\n",
        "We are going to use the [MovieLens dataset](https://grouplens.org/datasets/movielens/) collected by the GroupLens research group.\n",
        "This toy dataset describes ratings and tagging activity from MovieLens.\n",
        "The dataset contains approximately 100k ratings across more than 9k movies from more than 600 users.\n",
        "We are going to use this dataset to generate two node types holding data for movies and users, respectively, and one edge type connecting users and movies, representing the relation of whether a user has rated a specific movie.\n",
        "\n",
        "The link prediction task then tries to predict missing ratings, and can, for example, be used to recommend users new movies."
      ],
      "metadata": {
        "id": "vit8xKCiXAue"
      }
    },
    {
      "cell_type": "markdown",
      "source": [
        "## Heterogeneous Graph Creation\n",
        "\n",
        "First, we download the dataset to an arbitrary folder (in this case, the current directory):"
      ],
      "metadata": {
        "id": "N_pshZh8Y3dw"
      }
    },
    {
      "cell_type": "code",
      "source": [
        "from torch_geometric.data import download_url, extract_zip\n",
        "\n",
        "url = 'https://files.grouplens.org/datasets/movielens/ml-latest-small.zip'\n",
        "extract_zip(download_url(url, '.'), '.')\n",
        "\n",
        "movies_path = './ml-latest-small/movies.csv'\n",
        "ratings_path = './ml-latest-small/ratings.csv'"
      ],
      "metadata": {
        "colab": {
          "base_uri": "https://localhost:8080/"
        },
        "id": "ciYr7NWEv5_o",
        "outputId": "3204a607-124a-4c3f-8b65-282ce8b4c483"
      },
      "execution_count": 8,
      "outputs": [
        {
          "output_type": "stream",
          "name": "stderr",
          "text": [
            "Downloading https://files.grouplens.org/datasets/movielens/ml-latest-small.zip\n",
            "Extracting ./ml-latest-small.zip\n"
          ]
        }
      ]
    },
    {
      "cell_type": "markdown",
      "source": [
        "Before we create the heterogeneous graph, let’s take a look at the data."
      ],
      "metadata": {
        "id": "B89RD_evY7uu"
      }
    },
    {
      "cell_type": "code",
      "source": [
        "import pandas as pd\n",
        "\n",
        "print('movies.csv:')\n",
        "print('===========')\n",
        "print(pd.read_csv(movies_path)[[\"movieId\", \"genres\"]].head())\n",
        "print()\n",
        "print('ratings.csv:')\n",
        "print('============')\n",
        "print(pd.read_csv(ratings_path)[[\"userId\", \"movieId\"]].head())"
      ],
      "metadata": {
        "colab": {
          "base_uri": "https://localhost:8080/"
        },
        "id": "D6ixkcCOwCDi",
        "outputId": "458f69d4-0203-412b-e4a7-1377330921d6"
      },
      "execution_count": 9,
      "outputs": [
        {
          "output_type": "stream",
          "name": "stdout",
          "text": [
            "movies.csv:\n",
            "===========\n",
            "   movieId                                       genres\n",
            "0        1  Adventure|Animation|Children|Comedy|Fantasy\n",
            "1        2                   Adventure|Children|Fantasy\n",
            "2        3                               Comedy|Romance\n",
            "3        4                         Comedy|Drama|Romance\n",
            "4        5                                       Comedy\n",
            "\n",
            "ratings.csv:\n",
            "============\n",
            "   userId  movieId\n",
            "0       1        1\n",
            "1       1        3\n",
            "2       1        6\n",
            "3       1       47\n",
            "4       1       50\n"
          ]
        }
      ]
    },
    {
      "cell_type": "markdown",
      "source": [
        "We see that the `movies.csv` file provides two useful columns: `movieId` assigns a unique identifier to each movie, while the `genres` column represent genres of the given movie.\n",
        "We can make use of this column to define a feature representation that can be easily interpreted by machine learning models."
      ],
      "metadata": {
        "id": "LgXipuWTZK39"
      }
    },
    {
      "cell_type": "code",
      "source": [
        "pd.read_csv(ratings_path)"
      ],
      "metadata": {
        "colab": {
          "base_uri": "https://localhost:8080/",
          "height": 424
        },
        "id": "FbKAKZniSt1N",
        "outputId": "7c7da954-28b5-465d-a47e-6c5e9b19a7fb"
      },
      "execution_count": 10,
      "outputs": [
        {
          "output_type": "execute_result",
          "data": {
            "text/plain": [
              "        userId  movieId  rating   timestamp\n",
              "0            1        1     4.0   964982703\n",
              "1            1        3     4.0   964981247\n",
              "2            1        6     4.0   964982224\n",
              "3            1       47     5.0   964983815\n",
              "4            1       50     5.0   964982931\n",
              "...        ...      ...     ...         ...\n",
              "100831     610   166534     4.0  1493848402\n",
              "100832     610   168248     5.0  1493850091\n",
              "100833     610   168250     5.0  1494273047\n",
              "100834     610   168252     5.0  1493846352\n",
              "100835     610   170875     3.0  1493846415\n",
              "\n",
              "[100836 rows x 4 columns]"
            ],
            "text/html": [
              "\n",
              "  <div id=\"df-b4570a52-5c76-424a-ba2d-c3813b8933a3\">\n",
              "    <div class=\"colab-df-container\">\n",
              "      <div>\n",
              "<style scoped>\n",
              "    .dataframe tbody tr th:only-of-type {\n",
              "        vertical-align: middle;\n",
              "    }\n",
              "\n",
              "    .dataframe tbody tr th {\n",
              "        vertical-align: top;\n",
              "    }\n",
              "\n",
              "    .dataframe thead th {\n",
              "        text-align: right;\n",
              "    }\n",
              "</style>\n",
              "<table border=\"1\" class=\"dataframe\">\n",
              "  <thead>\n",
              "    <tr style=\"text-align: right;\">\n",
              "      <th></th>\n",
              "      <th>userId</th>\n",
              "      <th>movieId</th>\n",
              "      <th>rating</th>\n",
              "      <th>timestamp</th>\n",
              "    </tr>\n",
              "  </thead>\n",
              "  <tbody>\n",
              "    <tr>\n",
              "      <th>0</th>\n",
              "      <td>1</td>\n",
              "      <td>1</td>\n",
              "      <td>4.0</td>\n",
              "      <td>964982703</td>\n",
              "    </tr>\n",
              "    <tr>\n",
              "      <th>1</th>\n",
              "      <td>1</td>\n",
              "      <td>3</td>\n",
              "      <td>4.0</td>\n",
              "      <td>964981247</td>\n",
              "    </tr>\n",
              "    <tr>\n",
              "      <th>2</th>\n",
              "      <td>1</td>\n",
              "      <td>6</td>\n",
              "      <td>4.0</td>\n",
              "      <td>964982224</td>\n",
              "    </tr>\n",
              "    <tr>\n",
              "      <th>3</th>\n",
              "      <td>1</td>\n",
              "      <td>47</td>\n",
              "      <td>5.0</td>\n",
              "      <td>964983815</td>\n",
              "    </tr>\n",
              "    <tr>\n",
              "      <th>4</th>\n",
              "      <td>1</td>\n",
              "      <td>50</td>\n",
              "      <td>5.0</td>\n",
              "      <td>964982931</td>\n",
              "    </tr>\n",
              "    <tr>\n",
              "      <th>...</th>\n",
              "      <td>...</td>\n",
              "      <td>...</td>\n",
              "      <td>...</td>\n",
              "      <td>...</td>\n",
              "    </tr>\n",
              "    <tr>\n",
              "      <th>100831</th>\n",
              "      <td>610</td>\n",
              "      <td>166534</td>\n",
              "      <td>4.0</td>\n",
              "      <td>1493848402</td>\n",
              "    </tr>\n",
              "    <tr>\n",
              "      <th>100832</th>\n",
              "      <td>610</td>\n",
              "      <td>168248</td>\n",
              "      <td>5.0</td>\n",
              "      <td>1493850091</td>\n",
              "    </tr>\n",
              "    <tr>\n",
              "      <th>100833</th>\n",
              "      <td>610</td>\n",
              "      <td>168250</td>\n",
              "      <td>5.0</td>\n",
              "      <td>1494273047</td>\n",
              "    </tr>\n",
              "    <tr>\n",
              "      <th>100834</th>\n",
              "      <td>610</td>\n",
              "      <td>168252</td>\n",
              "      <td>5.0</td>\n",
              "      <td>1493846352</td>\n",
              "    </tr>\n",
              "    <tr>\n",
              "      <th>100835</th>\n",
              "      <td>610</td>\n",
              "      <td>170875</td>\n",
              "      <td>3.0</td>\n",
              "      <td>1493846415</td>\n",
              "    </tr>\n",
              "  </tbody>\n",
              "</table>\n",
              "<p>100836 rows × 4 columns</p>\n",
              "</div>\n",
              "      <button class=\"colab-df-convert\" onclick=\"convertToInteractive('df-b4570a52-5c76-424a-ba2d-c3813b8933a3')\"\n",
              "              title=\"Convert this dataframe to an interactive table.\"\n",
              "              style=\"display:none;\">\n",
              "        \n",
              "  <svg xmlns=\"http://www.w3.org/2000/svg\" height=\"24px\"viewBox=\"0 0 24 24\"\n",
              "       width=\"24px\">\n",
              "    <path d=\"M0 0h24v24H0V0z\" fill=\"none\"/>\n",
              "    <path d=\"M18.56 5.44l.94 2.06.94-2.06 2.06-.94-2.06-.94-.94-2.06-.94 2.06-2.06.94zm-11 1L8.5 8.5l.94-2.06 2.06-.94-2.06-.94L8.5 2.5l-.94 2.06-2.06.94zm10 10l.94 2.06.94-2.06 2.06-.94-2.06-.94-.94-2.06-.94 2.06-2.06.94z\"/><path d=\"M17.41 7.96l-1.37-1.37c-.4-.4-.92-.59-1.43-.59-.52 0-1.04.2-1.43.59L10.3 9.45l-7.72 7.72c-.78.78-.78 2.05 0 2.83L4 21.41c.39.39.9.59 1.41.59.51 0 1.02-.2 1.41-.59l7.78-7.78 2.81-2.81c.8-.78.8-2.07 0-2.86zM5.41 20L4 18.59l7.72-7.72 1.47 1.35L5.41 20z\"/>\n",
              "  </svg>\n",
              "      </button>\n",
              "      \n",
              "  <style>\n",
              "    .colab-df-container {\n",
              "      display:flex;\n",
              "      flex-wrap:wrap;\n",
              "      gap: 12px;\n",
              "    }\n",
              "\n",
              "    .colab-df-convert {\n",
              "      background-color: #E8F0FE;\n",
              "      border: none;\n",
              "      border-radius: 50%;\n",
              "      cursor: pointer;\n",
              "      display: none;\n",
              "      fill: #1967D2;\n",
              "      height: 32px;\n",
              "      padding: 0 0 0 0;\n",
              "      width: 32px;\n",
              "    }\n",
              "\n",
              "    .colab-df-convert:hover {\n",
              "      background-color: #E2EBFA;\n",
              "      box-shadow: 0px 1px 2px rgba(60, 64, 67, 0.3), 0px 1px 3px 1px rgba(60, 64, 67, 0.15);\n",
              "      fill: #174EA6;\n",
              "    }\n",
              "\n",
              "    [theme=dark] .colab-df-convert {\n",
              "      background-color: #3B4455;\n",
              "      fill: #D2E3FC;\n",
              "    }\n",
              "\n",
              "    [theme=dark] .colab-df-convert:hover {\n",
              "      background-color: #434B5C;\n",
              "      box-shadow: 0px 1px 3px 1px rgba(0, 0, 0, 0.15);\n",
              "      filter: drop-shadow(0px 1px 2px rgba(0, 0, 0, 0.3));\n",
              "      fill: #FFFFFF;\n",
              "    }\n",
              "  </style>\n",
              "\n",
              "      <script>\n",
              "        const buttonEl =\n",
              "          document.querySelector('#df-b4570a52-5c76-424a-ba2d-c3813b8933a3 button.colab-df-convert');\n",
              "        buttonEl.style.display =\n",
              "          google.colab.kernel.accessAllowed ? 'block' : 'none';\n",
              "\n",
              "        async function convertToInteractive(key) {\n",
              "          const element = document.querySelector('#df-b4570a52-5c76-424a-ba2d-c3813b8933a3');\n",
              "          const dataTable =\n",
              "            await google.colab.kernel.invokeFunction('convertToInteractive',\n",
              "                                                     [key], {});\n",
              "          if (!dataTable) return;\n",
              "\n",
              "          const docLinkHtml = 'Like what you see? Visit the ' +\n",
              "            '<a target=\"_blank\" href=https://colab.research.google.com/notebooks/data_table.ipynb>data table notebook</a>'\n",
              "            + ' to learn more about interactive tables.';\n",
              "          element.innerHTML = '';\n",
              "          dataTable['output_type'] = 'display_data';\n",
              "          await google.colab.output.renderOutput(dataTable, element);\n",
              "          const docLink = document.createElement('div');\n",
              "          docLink.innerHTML = docLinkHtml;\n",
              "          element.appendChild(docLink);\n",
              "        }\n",
              "      </script>\n",
              "    </div>\n",
              "  </div>\n",
              "  "
            ]
          },
          "metadata": {},
          "execution_count": 10
        }
      ]
    },
    {
      "cell_type": "code",
      "source": [
        "pd.read_csv(movies_path)"
      ],
      "metadata": {
        "colab": {
          "base_uri": "https://localhost:8080/",
          "height": 424
        },
        "id": "xAoV4shfTLo-",
        "outputId": "255decc9-f07c-419a-e30b-cc08a9c18917"
      },
      "execution_count": 11,
      "outputs": [
        {
          "output_type": "execute_result",
          "data": {
            "text/plain": [
              "      movieId                                      title  \\\n",
              "0           1                           Toy Story (1995)   \n",
              "1           2                             Jumanji (1995)   \n",
              "2           3                    Grumpier Old Men (1995)   \n",
              "3           4                   Waiting to Exhale (1995)   \n",
              "4           5         Father of the Bride Part II (1995)   \n",
              "...       ...                                        ...   \n",
              "9737   193581  Black Butler: Book of the Atlantic (2017)   \n",
              "9738   193583               No Game No Life: Zero (2017)   \n",
              "9739   193585                               Flint (2017)   \n",
              "9740   193587        Bungo Stray Dogs: Dead Apple (2018)   \n",
              "9741   193609        Andrew Dice Clay: Dice Rules (1991)   \n",
              "\n",
              "                                           genres  \n",
              "0     Adventure|Animation|Children|Comedy|Fantasy  \n",
              "1                      Adventure|Children|Fantasy  \n",
              "2                                  Comedy|Romance  \n",
              "3                            Comedy|Drama|Romance  \n",
              "4                                          Comedy  \n",
              "...                                           ...  \n",
              "9737              Action|Animation|Comedy|Fantasy  \n",
              "9738                     Animation|Comedy|Fantasy  \n",
              "9739                                        Drama  \n",
              "9740                             Action|Animation  \n",
              "9741                                       Comedy  \n",
              "\n",
              "[9742 rows x 3 columns]"
            ],
            "text/html": [
              "\n",
              "  <div id=\"df-3120bd5f-11d9-4c62-bd15-1f117ebaffcb\">\n",
              "    <div class=\"colab-df-container\">\n",
              "      <div>\n",
              "<style scoped>\n",
              "    .dataframe tbody tr th:only-of-type {\n",
              "        vertical-align: middle;\n",
              "    }\n",
              "\n",
              "    .dataframe tbody tr th {\n",
              "        vertical-align: top;\n",
              "    }\n",
              "\n",
              "    .dataframe thead th {\n",
              "        text-align: right;\n",
              "    }\n",
              "</style>\n",
              "<table border=\"1\" class=\"dataframe\">\n",
              "  <thead>\n",
              "    <tr style=\"text-align: right;\">\n",
              "      <th></th>\n",
              "      <th>movieId</th>\n",
              "      <th>title</th>\n",
              "      <th>genres</th>\n",
              "    </tr>\n",
              "  </thead>\n",
              "  <tbody>\n",
              "    <tr>\n",
              "      <th>0</th>\n",
              "      <td>1</td>\n",
              "      <td>Toy Story (1995)</td>\n",
              "      <td>Adventure|Animation|Children|Comedy|Fantasy</td>\n",
              "    </tr>\n",
              "    <tr>\n",
              "      <th>1</th>\n",
              "      <td>2</td>\n",
              "      <td>Jumanji (1995)</td>\n",
              "      <td>Adventure|Children|Fantasy</td>\n",
              "    </tr>\n",
              "    <tr>\n",
              "      <th>2</th>\n",
              "      <td>3</td>\n",
              "      <td>Grumpier Old Men (1995)</td>\n",
              "      <td>Comedy|Romance</td>\n",
              "    </tr>\n",
              "    <tr>\n",
              "      <th>3</th>\n",
              "      <td>4</td>\n",
              "      <td>Waiting to Exhale (1995)</td>\n",
              "      <td>Comedy|Drama|Romance</td>\n",
              "    </tr>\n",
              "    <tr>\n",
              "      <th>4</th>\n",
              "      <td>5</td>\n",
              "      <td>Father of the Bride Part II (1995)</td>\n",
              "      <td>Comedy</td>\n",
              "    </tr>\n",
              "    <tr>\n",
              "      <th>...</th>\n",
              "      <td>...</td>\n",
              "      <td>...</td>\n",
              "      <td>...</td>\n",
              "    </tr>\n",
              "    <tr>\n",
              "      <th>9737</th>\n",
              "      <td>193581</td>\n",
              "      <td>Black Butler: Book of the Atlantic (2017)</td>\n",
              "      <td>Action|Animation|Comedy|Fantasy</td>\n",
              "    </tr>\n",
              "    <tr>\n",
              "      <th>9738</th>\n",
              "      <td>193583</td>\n",
              "      <td>No Game No Life: Zero (2017)</td>\n",
              "      <td>Animation|Comedy|Fantasy</td>\n",
              "    </tr>\n",
              "    <tr>\n",
              "      <th>9739</th>\n",
              "      <td>193585</td>\n",
              "      <td>Flint (2017)</td>\n",
              "      <td>Drama</td>\n",
              "    </tr>\n",
              "    <tr>\n",
              "      <th>9740</th>\n",
              "      <td>193587</td>\n",
              "      <td>Bungo Stray Dogs: Dead Apple (2018)</td>\n",
              "      <td>Action|Animation</td>\n",
              "    </tr>\n",
              "    <tr>\n",
              "      <th>9741</th>\n",
              "      <td>193609</td>\n",
              "      <td>Andrew Dice Clay: Dice Rules (1991)</td>\n",
              "      <td>Comedy</td>\n",
              "    </tr>\n",
              "  </tbody>\n",
              "</table>\n",
              "<p>9742 rows × 3 columns</p>\n",
              "</div>\n",
              "      <button class=\"colab-df-convert\" onclick=\"convertToInteractive('df-3120bd5f-11d9-4c62-bd15-1f117ebaffcb')\"\n",
              "              title=\"Convert this dataframe to an interactive table.\"\n",
              "              style=\"display:none;\">\n",
              "        \n",
              "  <svg xmlns=\"http://www.w3.org/2000/svg\" height=\"24px\"viewBox=\"0 0 24 24\"\n",
              "       width=\"24px\">\n",
              "    <path d=\"M0 0h24v24H0V0z\" fill=\"none\"/>\n",
              "    <path d=\"M18.56 5.44l.94 2.06.94-2.06 2.06-.94-2.06-.94-.94-2.06-.94 2.06-2.06.94zm-11 1L8.5 8.5l.94-2.06 2.06-.94-2.06-.94L8.5 2.5l-.94 2.06-2.06.94zm10 10l.94 2.06.94-2.06 2.06-.94-2.06-.94-.94-2.06-.94 2.06-2.06.94z\"/><path d=\"M17.41 7.96l-1.37-1.37c-.4-.4-.92-.59-1.43-.59-.52 0-1.04.2-1.43.59L10.3 9.45l-7.72 7.72c-.78.78-.78 2.05 0 2.83L4 21.41c.39.39.9.59 1.41.59.51 0 1.02-.2 1.41-.59l7.78-7.78 2.81-2.81c.8-.78.8-2.07 0-2.86zM5.41 20L4 18.59l7.72-7.72 1.47 1.35L5.41 20z\"/>\n",
              "  </svg>\n",
              "      </button>\n",
              "      \n",
              "  <style>\n",
              "    .colab-df-container {\n",
              "      display:flex;\n",
              "      flex-wrap:wrap;\n",
              "      gap: 12px;\n",
              "    }\n",
              "\n",
              "    .colab-df-convert {\n",
              "      background-color: #E8F0FE;\n",
              "      border: none;\n",
              "      border-radius: 50%;\n",
              "      cursor: pointer;\n",
              "      display: none;\n",
              "      fill: #1967D2;\n",
              "      height: 32px;\n",
              "      padding: 0 0 0 0;\n",
              "      width: 32px;\n",
              "    }\n",
              "\n",
              "    .colab-df-convert:hover {\n",
              "      background-color: #E2EBFA;\n",
              "      box-shadow: 0px 1px 2px rgba(60, 64, 67, 0.3), 0px 1px 3px 1px rgba(60, 64, 67, 0.15);\n",
              "      fill: #174EA6;\n",
              "    }\n",
              "\n",
              "    [theme=dark] .colab-df-convert {\n",
              "      background-color: #3B4455;\n",
              "      fill: #D2E3FC;\n",
              "    }\n",
              "\n",
              "    [theme=dark] .colab-df-convert:hover {\n",
              "      background-color: #434B5C;\n",
              "      box-shadow: 0px 1px 3px 1px rgba(0, 0, 0, 0.15);\n",
              "      filter: drop-shadow(0px 1px 2px rgba(0, 0, 0, 0.3));\n",
              "      fill: #FFFFFF;\n",
              "    }\n",
              "  </style>\n",
              "\n",
              "      <script>\n",
              "        const buttonEl =\n",
              "          document.querySelector('#df-3120bd5f-11d9-4c62-bd15-1f117ebaffcb button.colab-df-convert');\n",
              "        buttonEl.style.display =\n",
              "          google.colab.kernel.accessAllowed ? 'block' : 'none';\n",
              "\n",
              "        async function convertToInteractive(key) {\n",
              "          const element = document.querySelector('#df-3120bd5f-11d9-4c62-bd15-1f117ebaffcb');\n",
              "          const dataTable =\n",
              "            await google.colab.kernel.invokeFunction('convertToInteractive',\n",
              "                                                     [key], {});\n",
              "          if (!dataTable) return;\n",
              "\n",
              "          const docLinkHtml = 'Like what you see? Visit the ' +\n",
              "            '<a target=\"_blank\" href=https://colab.research.google.com/notebooks/data_table.ipynb>data table notebook</a>'\n",
              "            + ' to learn more about interactive tables.';\n",
              "          element.innerHTML = '';\n",
              "          dataTable['output_type'] = 'display_data';\n",
              "          await google.colab.output.renderOutput(dataTable, element);\n",
              "          const docLink = document.createElement('div');\n",
              "          docLink.innerHTML = docLinkHtml;\n",
              "          element.appendChild(docLink);\n",
              "        }\n",
              "      </script>\n",
              "    </div>\n",
              "  </div>\n",
              "  "
            ]
          },
          "metadata": {},
          "execution_count": 11
        }
      ]
    },
    {
      "cell_type": "code",
      "source": [
        "# Load the entire movie data frame into memory:\n",
        "movies_df = pd.read_csv(movies_path, index_col='movieId')\n",
        "\n",
        "# Split genres and convert into indicator variables:\n",
        "genres = movies_df['genres'].str.get_dummies('|')\n",
        "print(genres[[\"Action\", \"Adventure\", \"Drama\", \"Horror\"]].head())\n",
        "\n",
        "# Use genres as movie input features:\n",
        "movie_feat = torch.from_numpy(genres.values).to(torch.float)\n",
        "assert movie_feat.size() == (9742, 20)  # 20 genres in total."
      ],
      "metadata": {
        "colab": {
          "base_uri": "https://localhost:8080/"
        },
        "id": "dd_BJMNcwJ7k",
        "outputId": "66d30c75-5f4a-48a2-bd31-87c25ccbbc4f"
      },
      "execution_count": 12,
      "outputs": [
        {
          "output_type": "stream",
          "name": "stdout",
          "text": [
            "         Action  Adventure  Drama  Horror\n",
            "movieId                                  \n",
            "1             0          1      0       0\n",
            "2             0          1      0       0\n",
            "3             0          0      0       0\n",
            "4             0          0      1       0\n",
            "5             0          0      0       0\n"
          ]
        }
      ]
    },
    {
      "cell_type": "markdown",
      "source": [
        "The `ratings.csv` data connects users (as given by `userId`) and movies (as given by `movieId`).\n",
        "Due to simplicity, we do not make use of the additional `timestamp` and `rating` information.\n",
        "Here, we first read the `*.csv` file from disk, and create a mapping that maps entry IDs to a consecutive value in the range `{ 0, ..., num_rows - 1 }`.\n",
        "This is needed as we want our final data representation to be as compact as possible, *e.g.*, the representation of a movie in the first row should be accessible via `x[0]`.\n",
        "\n",
        "Afterwards, we obtain the final `edge_index` representation of shape `[2, num_ratings]` from `ratings.csv` by merging mapped user and movie indices with the raw indices given by the original data frame."
      ],
      "metadata": {
        "id": "KLaDBVP4plsS"
      }
    },
    {
      "cell_type": "code",
      "source": [
        "# Load the entire ratings data frame into memory:\n",
        "ratings_df = pd.read_csv(ratings_path)\n",
        "\n",
        "# Create a mapping from unique user indices to range [0, num_user_nodes):\n",
        "unique_user_id = ratings_df['userId'].unique()\n",
        "unique_user_id = pd.DataFrame(data={\n",
        "    'userId': unique_user_id,\n",
        "    'mappedID': pd.RangeIndex(len(unique_user_id)),\n",
        "})\n",
        "print(\"Mapping of user IDs to consecutive values:\")\n",
        "print(\"==========================================\")\n",
        "print(unique_user_id.head())\n",
        "print()\n",
        "# Create a mapping from unique movie indices to range [0, num_movie_nodes):\n",
        "unique_movie_id = pd.DataFrame(data={\n",
        "    'movieId': movies_df.index,\n",
        "    'mappedID': pd.RangeIndex(len(movies_df)),\n",
        "})\n",
        "print(\"Mapping of movie IDs to consecutive values:\")\n",
        "print(\"===========================================\")\n",
        "print(unique_movie_id.head())\n",
        "\n",
        "# Perform merge to obtain the edges from users and movies:\n",
        "ratings_user_id = pd.merge(ratings_df['userId'], unique_user_id,\n",
        "                            left_on='userId', right_on='userId', how='left')\n",
        "ratings_user_id = torch.from_numpy(ratings_user_id['mappedID'].values)\n",
        "ratings_movie_id = pd.merge(ratings_df['movieId'], unique_movie_id,\n",
        "                            left_on='movieId', right_on='movieId', how='left')\n",
        "ratings_movie_id = torch.from_numpy(ratings_movie_id['mappedID'].values)\n",
        "\n",
        "# With this, we are ready to construct our `edge_index` in COO format\n",
        "# following PyG semantics:\n",
        "edge_index_user_to_movie = torch.stack([ratings_user_id, ratings_movie_id], dim=0)\n",
        "assert edge_index_user_to_movie.size() == (2, 100836)\n",
        "\n",
        "print()\n",
        "print(\"Final edge indices pointing from users to movies:\")\n",
        "print(\"=================================================\")\n",
        "print(edge_index_user_to_movie)"
      ],
      "metadata": {
        "colab": {
          "base_uri": "https://localhost:8080/"
        },
        "id": "JMGYv83WzSRr",
        "outputId": "8674b748-fcb5-412b-891f-8630d27f2a32"
      },
      "execution_count": 13,
      "outputs": [
        {
          "output_type": "stream",
          "name": "stdout",
          "text": [
            "Mapping of user IDs to consecutive values:\n",
            "==========================================\n",
            "   userId  mappedID\n",
            "0       1         0\n",
            "1       2         1\n",
            "2       3         2\n",
            "3       4         3\n",
            "4       5         4\n",
            "\n",
            "Mapping of movie IDs to consecutive values:\n",
            "===========================================\n",
            "   movieId  mappedID\n",
            "0        1         0\n",
            "1        2         1\n",
            "2        3         2\n",
            "3        4         3\n",
            "4        5         4\n",
            "\n",
            "Final edge indices pointing from users to movies:\n",
            "=================================================\n",
            "tensor([[   0,    0,    0,  ...,  609,  609,  609],\n",
            "        [   0,    2,    5,  ..., 9462, 9463, 9503]])\n"
          ]
        }
      ]
    },
    {
      "cell_type": "code",
      "source": [
        "pd.merge(ratings_df['userId'], unique_user_id, left_on='userId', right_on='userId', how='left')"
      ],
      "metadata": {
        "colab": {
          "base_uri": "https://localhost:8080/",
          "height": 424
        },
        "id": "lgNxzY5wVaAG",
        "outputId": "5b80c5e9-a565-4bf6-b92e-6d829ad8323d"
      },
      "execution_count": 14,
      "outputs": [
        {
          "output_type": "execute_result",
          "data": {
            "text/plain": [
              "        userId  mappedID\n",
              "0            1         0\n",
              "1            1         0\n",
              "2            1         0\n",
              "3            1         0\n",
              "4            1         0\n",
              "...        ...       ...\n",
              "100831     610       609\n",
              "100832     610       609\n",
              "100833     610       609\n",
              "100834     610       609\n",
              "100835     610       609\n",
              "\n",
              "[100836 rows x 2 columns]"
            ],
            "text/html": [
              "\n",
              "  <div id=\"df-6ca78978-1b3b-4154-a8ad-7aa2ce9d77f1\">\n",
              "    <div class=\"colab-df-container\">\n",
              "      <div>\n",
              "<style scoped>\n",
              "    .dataframe tbody tr th:only-of-type {\n",
              "        vertical-align: middle;\n",
              "    }\n",
              "\n",
              "    .dataframe tbody tr th {\n",
              "        vertical-align: top;\n",
              "    }\n",
              "\n",
              "    .dataframe thead th {\n",
              "        text-align: right;\n",
              "    }\n",
              "</style>\n",
              "<table border=\"1\" class=\"dataframe\">\n",
              "  <thead>\n",
              "    <tr style=\"text-align: right;\">\n",
              "      <th></th>\n",
              "      <th>userId</th>\n",
              "      <th>mappedID</th>\n",
              "    </tr>\n",
              "  </thead>\n",
              "  <tbody>\n",
              "    <tr>\n",
              "      <th>0</th>\n",
              "      <td>1</td>\n",
              "      <td>0</td>\n",
              "    </tr>\n",
              "    <tr>\n",
              "      <th>1</th>\n",
              "      <td>1</td>\n",
              "      <td>0</td>\n",
              "    </tr>\n",
              "    <tr>\n",
              "      <th>2</th>\n",
              "      <td>1</td>\n",
              "      <td>0</td>\n",
              "    </tr>\n",
              "    <tr>\n",
              "      <th>3</th>\n",
              "      <td>1</td>\n",
              "      <td>0</td>\n",
              "    </tr>\n",
              "    <tr>\n",
              "      <th>4</th>\n",
              "      <td>1</td>\n",
              "      <td>0</td>\n",
              "    </tr>\n",
              "    <tr>\n",
              "      <th>...</th>\n",
              "      <td>...</td>\n",
              "      <td>...</td>\n",
              "    </tr>\n",
              "    <tr>\n",
              "      <th>100831</th>\n",
              "      <td>610</td>\n",
              "      <td>609</td>\n",
              "    </tr>\n",
              "    <tr>\n",
              "      <th>100832</th>\n",
              "      <td>610</td>\n",
              "      <td>609</td>\n",
              "    </tr>\n",
              "    <tr>\n",
              "      <th>100833</th>\n",
              "      <td>610</td>\n",
              "      <td>609</td>\n",
              "    </tr>\n",
              "    <tr>\n",
              "      <th>100834</th>\n",
              "      <td>610</td>\n",
              "      <td>609</td>\n",
              "    </tr>\n",
              "    <tr>\n",
              "      <th>100835</th>\n",
              "      <td>610</td>\n",
              "      <td>609</td>\n",
              "    </tr>\n",
              "  </tbody>\n",
              "</table>\n",
              "<p>100836 rows × 2 columns</p>\n",
              "</div>\n",
              "      <button class=\"colab-df-convert\" onclick=\"convertToInteractive('df-6ca78978-1b3b-4154-a8ad-7aa2ce9d77f1')\"\n",
              "              title=\"Convert this dataframe to an interactive table.\"\n",
              "              style=\"display:none;\">\n",
              "        \n",
              "  <svg xmlns=\"http://www.w3.org/2000/svg\" height=\"24px\"viewBox=\"0 0 24 24\"\n",
              "       width=\"24px\">\n",
              "    <path d=\"M0 0h24v24H0V0z\" fill=\"none\"/>\n",
              "    <path d=\"M18.56 5.44l.94 2.06.94-2.06 2.06-.94-2.06-.94-.94-2.06-.94 2.06-2.06.94zm-11 1L8.5 8.5l.94-2.06 2.06-.94-2.06-.94L8.5 2.5l-.94 2.06-2.06.94zm10 10l.94 2.06.94-2.06 2.06-.94-2.06-.94-.94-2.06-.94 2.06-2.06.94z\"/><path d=\"M17.41 7.96l-1.37-1.37c-.4-.4-.92-.59-1.43-.59-.52 0-1.04.2-1.43.59L10.3 9.45l-7.72 7.72c-.78.78-.78 2.05 0 2.83L4 21.41c.39.39.9.59 1.41.59.51 0 1.02-.2 1.41-.59l7.78-7.78 2.81-2.81c.8-.78.8-2.07 0-2.86zM5.41 20L4 18.59l7.72-7.72 1.47 1.35L5.41 20z\"/>\n",
              "  </svg>\n",
              "      </button>\n",
              "      \n",
              "  <style>\n",
              "    .colab-df-container {\n",
              "      display:flex;\n",
              "      flex-wrap:wrap;\n",
              "      gap: 12px;\n",
              "    }\n",
              "\n",
              "    .colab-df-convert {\n",
              "      background-color: #E8F0FE;\n",
              "      border: none;\n",
              "      border-radius: 50%;\n",
              "      cursor: pointer;\n",
              "      display: none;\n",
              "      fill: #1967D2;\n",
              "      height: 32px;\n",
              "      padding: 0 0 0 0;\n",
              "      width: 32px;\n",
              "    }\n",
              "\n",
              "    .colab-df-convert:hover {\n",
              "      background-color: #E2EBFA;\n",
              "      box-shadow: 0px 1px 2px rgba(60, 64, 67, 0.3), 0px 1px 3px 1px rgba(60, 64, 67, 0.15);\n",
              "      fill: #174EA6;\n",
              "    }\n",
              "\n",
              "    [theme=dark] .colab-df-convert {\n",
              "      background-color: #3B4455;\n",
              "      fill: #D2E3FC;\n",
              "    }\n",
              "\n",
              "    [theme=dark] .colab-df-convert:hover {\n",
              "      background-color: #434B5C;\n",
              "      box-shadow: 0px 1px 3px 1px rgba(0, 0, 0, 0.15);\n",
              "      filter: drop-shadow(0px 1px 2px rgba(0, 0, 0, 0.3));\n",
              "      fill: #FFFFFF;\n",
              "    }\n",
              "  </style>\n",
              "\n",
              "      <script>\n",
              "        const buttonEl =\n",
              "          document.querySelector('#df-6ca78978-1b3b-4154-a8ad-7aa2ce9d77f1 button.colab-df-convert');\n",
              "        buttonEl.style.display =\n",
              "          google.colab.kernel.accessAllowed ? 'block' : 'none';\n",
              "\n",
              "        async function convertToInteractive(key) {\n",
              "          const element = document.querySelector('#df-6ca78978-1b3b-4154-a8ad-7aa2ce9d77f1');\n",
              "          const dataTable =\n",
              "            await google.colab.kernel.invokeFunction('convertToInteractive',\n",
              "                                                     [key], {});\n",
              "          if (!dataTable) return;\n",
              "\n",
              "          const docLinkHtml = 'Like what you see? Visit the ' +\n",
              "            '<a target=\"_blank\" href=https://colab.research.google.com/notebooks/data_table.ipynb>data table notebook</a>'\n",
              "            + ' to learn more about interactive tables.';\n",
              "          element.innerHTML = '';\n",
              "          dataTable['output_type'] = 'display_data';\n",
              "          await google.colab.output.renderOutput(dataTable, element);\n",
              "          const docLink = document.createElement('div');\n",
              "          docLink.innerHTML = docLinkHtml;\n",
              "          element.appendChild(docLink);\n",
              "        }\n",
              "      </script>\n",
              "    </div>\n",
              "  </div>\n",
              "  "
            ]
          },
          "metadata": {},
          "execution_count": 14
        }
      ]
    },
    {
      "cell_type": "code",
      "source": [
        "pd.merge(ratings_df['movieId'], unique_movie_id,left_on='movieId', right_on='movieId', how='left')"
      ],
      "metadata": {
        "colab": {
          "base_uri": "https://localhost:8080/",
          "height": 424
        },
        "id": "4JUVjIXIWMEM",
        "outputId": "4b1aab60-3794-44e4-f4f4-fb667318c081"
      },
      "execution_count": 15,
      "outputs": [
        {
          "output_type": "execute_result",
          "data": {
            "text/plain": [
              "        movieId  mappedID\n",
              "0             1         0\n",
              "1             3         2\n",
              "2             6         5\n",
              "3            47        43\n",
              "4            50        46\n",
              "...         ...       ...\n",
              "100831   166534      9434\n",
              "100832   168248      9461\n",
              "100833   168250      9462\n",
              "100834   168252      9463\n",
              "100835   170875      9503\n",
              "\n",
              "[100836 rows x 2 columns]"
            ],
            "text/html": [
              "\n",
              "  <div id=\"df-56ad726b-c854-4360-9734-72fc201386ae\">\n",
              "    <div class=\"colab-df-container\">\n",
              "      <div>\n",
              "<style scoped>\n",
              "    .dataframe tbody tr th:only-of-type {\n",
              "        vertical-align: middle;\n",
              "    }\n",
              "\n",
              "    .dataframe tbody tr th {\n",
              "        vertical-align: top;\n",
              "    }\n",
              "\n",
              "    .dataframe thead th {\n",
              "        text-align: right;\n",
              "    }\n",
              "</style>\n",
              "<table border=\"1\" class=\"dataframe\">\n",
              "  <thead>\n",
              "    <tr style=\"text-align: right;\">\n",
              "      <th></th>\n",
              "      <th>movieId</th>\n",
              "      <th>mappedID</th>\n",
              "    </tr>\n",
              "  </thead>\n",
              "  <tbody>\n",
              "    <tr>\n",
              "      <th>0</th>\n",
              "      <td>1</td>\n",
              "      <td>0</td>\n",
              "    </tr>\n",
              "    <tr>\n",
              "      <th>1</th>\n",
              "      <td>3</td>\n",
              "      <td>2</td>\n",
              "    </tr>\n",
              "    <tr>\n",
              "      <th>2</th>\n",
              "      <td>6</td>\n",
              "      <td>5</td>\n",
              "    </tr>\n",
              "    <tr>\n",
              "      <th>3</th>\n",
              "      <td>47</td>\n",
              "      <td>43</td>\n",
              "    </tr>\n",
              "    <tr>\n",
              "      <th>4</th>\n",
              "      <td>50</td>\n",
              "      <td>46</td>\n",
              "    </tr>\n",
              "    <tr>\n",
              "      <th>...</th>\n",
              "      <td>...</td>\n",
              "      <td>...</td>\n",
              "    </tr>\n",
              "    <tr>\n",
              "      <th>100831</th>\n",
              "      <td>166534</td>\n",
              "      <td>9434</td>\n",
              "    </tr>\n",
              "    <tr>\n",
              "      <th>100832</th>\n",
              "      <td>168248</td>\n",
              "      <td>9461</td>\n",
              "    </tr>\n",
              "    <tr>\n",
              "      <th>100833</th>\n",
              "      <td>168250</td>\n",
              "      <td>9462</td>\n",
              "    </tr>\n",
              "    <tr>\n",
              "      <th>100834</th>\n",
              "      <td>168252</td>\n",
              "      <td>9463</td>\n",
              "    </tr>\n",
              "    <tr>\n",
              "      <th>100835</th>\n",
              "      <td>170875</td>\n",
              "      <td>9503</td>\n",
              "    </tr>\n",
              "  </tbody>\n",
              "</table>\n",
              "<p>100836 rows × 2 columns</p>\n",
              "</div>\n",
              "      <button class=\"colab-df-convert\" onclick=\"convertToInteractive('df-56ad726b-c854-4360-9734-72fc201386ae')\"\n",
              "              title=\"Convert this dataframe to an interactive table.\"\n",
              "              style=\"display:none;\">\n",
              "        \n",
              "  <svg xmlns=\"http://www.w3.org/2000/svg\" height=\"24px\"viewBox=\"0 0 24 24\"\n",
              "       width=\"24px\">\n",
              "    <path d=\"M0 0h24v24H0V0z\" fill=\"none\"/>\n",
              "    <path d=\"M18.56 5.44l.94 2.06.94-2.06 2.06-.94-2.06-.94-.94-2.06-.94 2.06-2.06.94zm-11 1L8.5 8.5l.94-2.06 2.06-.94-2.06-.94L8.5 2.5l-.94 2.06-2.06.94zm10 10l.94 2.06.94-2.06 2.06-.94-2.06-.94-.94-2.06-.94 2.06-2.06.94z\"/><path d=\"M17.41 7.96l-1.37-1.37c-.4-.4-.92-.59-1.43-.59-.52 0-1.04.2-1.43.59L10.3 9.45l-7.72 7.72c-.78.78-.78 2.05 0 2.83L4 21.41c.39.39.9.59 1.41.59.51 0 1.02-.2 1.41-.59l7.78-7.78 2.81-2.81c.8-.78.8-2.07 0-2.86zM5.41 20L4 18.59l7.72-7.72 1.47 1.35L5.41 20z\"/>\n",
              "  </svg>\n",
              "      </button>\n",
              "      \n",
              "  <style>\n",
              "    .colab-df-container {\n",
              "      display:flex;\n",
              "      flex-wrap:wrap;\n",
              "      gap: 12px;\n",
              "    }\n",
              "\n",
              "    .colab-df-convert {\n",
              "      background-color: #E8F0FE;\n",
              "      border: none;\n",
              "      border-radius: 50%;\n",
              "      cursor: pointer;\n",
              "      display: none;\n",
              "      fill: #1967D2;\n",
              "      height: 32px;\n",
              "      padding: 0 0 0 0;\n",
              "      width: 32px;\n",
              "    }\n",
              "\n",
              "    .colab-df-convert:hover {\n",
              "      background-color: #E2EBFA;\n",
              "      box-shadow: 0px 1px 2px rgba(60, 64, 67, 0.3), 0px 1px 3px 1px rgba(60, 64, 67, 0.15);\n",
              "      fill: #174EA6;\n",
              "    }\n",
              "\n",
              "    [theme=dark] .colab-df-convert {\n",
              "      background-color: #3B4455;\n",
              "      fill: #D2E3FC;\n",
              "    }\n",
              "\n",
              "    [theme=dark] .colab-df-convert:hover {\n",
              "      background-color: #434B5C;\n",
              "      box-shadow: 0px 1px 3px 1px rgba(0, 0, 0, 0.15);\n",
              "      filter: drop-shadow(0px 1px 2px rgba(0, 0, 0, 0.3));\n",
              "      fill: #FFFFFF;\n",
              "    }\n",
              "  </style>\n",
              "\n",
              "      <script>\n",
              "        const buttonEl =\n",
              "          document.querySelector('#df-56ad726b-c854-4360-9734-72fc201386ae button.colab-df-convert');\n",
              "        buttonEl.style.display =\n",
              "          google.colab.kernel.accessAllowed ? 'block' : 'none';\n",
              "\n",
              "        async function convertToInteractive(key) {\n",
              "          const element = document.querySelector('#df-56ad726b-c854-4360-9734-72fc201386ae');\n",
              "          const dataTable =\n",
              "            await google.colab.kernel.invokeFunction('convertToInteractive',\n",
              "                                                     [key], {});\n",
              "          if (!dataTable) return;\n",
              "\n",
              "          const docLinkHtml = 'Like what you see? Visit the ' +\n",
              "            '<a target=\"_blank\" href=https://colab.research.google.com/notebooks/data_table.ipynb>data table notebook</a>'\n",
              "            + ' to learn more about interactive tables.';\n",
              "          element.innerHTML = '';\n",
              "          dataTable['output_type'] = 'display_data';\n",
              "          await google.colab.output.renderOutput(dataTable, element);\n",
              "          const docLink = document.createElement('div');\n",
              "          docLink.innerHTML = docLinkHtml;\n",
              "          element.appendChild(docLink);\n",
              "        }\n",
              "      </script>\n",
              "    </div>\n",
              "  </div>\n",
              "  "
            ]
          },
          "metadata": {},
          "execution_count": 15
        }
      ]
    },
    {
      "cell_type": "code",
      "source": [
        "edge_index_user_to_movie"
      ],
      "metadata": {
        "id": "NuRRxBzdTQ41",
        "outputId": "0d2ebd43-9e51-4b40-d742-e415e81f3e43",
        "colab": {
          "base_uri": "https://localhost:8080/"
        }
      },
      "execution_count": 16,
      "outputs": [
        {
          "output_type": "execute_result",
          "data": {
            "text/plain": [
              "tensor([[   0,    0,    0,  ...,  609,  609,  609],\n",
              "        [   0,    2,    5,  ..., 9462, 9463, 9503]])"
            ]
          },
          "metadata": {},
          "execution_count": 16
        }
      ]
    },
    {
      "cell_type": "markdown",
      "source": [
        "With this, we are ready to initialize our `HeteroData` object and pass the necessary information to it.\n",
        "Note that we also pass in a `node_id` vector to each node type in order to reconstruct the original node indices from sampled subgraphs.\n",
        "We also take care of adding reverse edges to the `HeteroData` object.\n",
        "This allows our GNN model to use both directions of the edge for message passing:"
      ],
      "metadata": {
        "id": "9w9fCnjvqmd2"
      }
    },
    {
      "cell_type": "code",
      "source": [
        "from torch_geometric.data import HeteroData\n",
        "import torch_geometric.transforms as F\n",
        "import torch.nn.functional as F\n",
        "\n",
        "data = HeteroData()\n",
        "\n",
        "# Save node indices:\n",
        "data[\"user\"].node_id = torch.arange(len(unique_user_id))\n",
        "data[\"movie\"].node_id = torch.arange(len(movies_df))\n",
        "\n",
        "# Add the node features and edge indices:\n",
        "data[\"movie\"].x = torch.tensor(movie_feat, dtype=torch.float)   # TODO\n",
        "data[\"user\", \"rates\", \"movie\"].edge_index = edge_index_user_to_movie  # TODO\n",
        "\n",
        "# We also need to make sure to add the reverse edges from movies to users\n",
        "# in order to let a GNN be able to pass messages in both directions.\n",
        "# We can leverage the `T.ToUndirected()` transform for this from PyG:\n",
        "\n",
        "# TODO:\n",
        "# raise NotImplementedError\n",
        "\n",
        "data = T.ToUndirected()(data)\n",
        "\n",
        "print(data)\n",
        "\n",
        "assert data.node_types == [\"user\", \"movie\"]\n",
        "assert data.edge_types == [(\"user\", \"rates\", \"movie\"),\n",
        "                           (\"movie\", \"rev_rates\", \"user\")]\n",
        "assert data[\"user\"].num_nodes == 610\n",
        "assert data[\"user\"].num_features == 0\n",
        "assert data[\"movie\"].num_nodes == 9742\n",
        "assert data[\"movie\"].num_features == 20\n",
        "assert data[\"user\", \"rates\", \"movie\"].num_edges == 100836\n",
        "assert data[\"movie\", \"rev_rates\", \"user\"].num_edges == 100836"
      ],
      "metadata": {
        "colab": {
          "base_uri": "https://localhost:8080/"
        },
        "id": "I_63--974srt",
        "outputId": "7f565474-4801-4559-d56d-d5abd596a978"
      },
      "execution_count": 28,
      "outputs": [
        {
          "output_type": "stream",
          "name": "stdout",
          "text": [
            "HeteroData(\n",
            "  \u001b[1muser\u001b[0m={ node_id=[610] },\n",
            "  \u001b[1mmovie\u001b[0m={\n",
            "    node_id=[9742],\n",
            "    x=[9742, 20]\n",
            "  },\n",
            "  \u001b[1m(user, rates, movie)\u001b[0m={ edge_index=[2, 100836] },\n",
            "  \u001b[1m(movie, rev_rates, user)\u001b[0m={ edge_index=[2, 100836] }\n",
            ")\n"
          ]
        },
        {
          "output_type": "stream",
          "name": "stderr",
          "text": [
            "<ipython-input-28-e369bcfb4108>:12: UserWarning: To copy construct from a tensor, it is recommended to use sourceTensor.clone().detach() or sourceTensor.clone().detach().requires_grad_(True), rather than torch.tensor(sourceTensor).\n",
            "  data[\"movie\"].x = torch.tensor(movie_feat, dtype=torch.float)   # TODO\n"
          ]
        }
      ]
    },
    {
      "cell_type": "markdown",
      "source": [
        "## Defining Edge-level Training Splits\n",
        "\n",
        "Since our data is now ready-to-be-used, we can split the ratings of users into training, validation, and test splits.\n",
        "This is needed in order to ensure that we leak no information about edges used during evaluation into the training phase.\n",
        "For this, we make use of the [`transforms.RandomLinkSplit`](https://pytorch-geometric.readthedocs.io/en/latest/modules/transforms.html#torch_geometric.transforms.RandomLinkSplit) transformation from PyG.\n",
        "This transforms randomly divides the edges in the `(\"user\", \"rates\", \"movie\")` into training, validation and test edges.\n",
        "The `disjoint_train_ratio` parameter further separates edges in the training split into edges used for message passing (`edge_index`) and edges used for supervision (`edge_label_index`).\n",
        "Note that we also need to specify the reverse edge type `(\"movie\", \"rev_rates\", \"user\")`.\n",
        "This allows the `RandomLinkSplit` transform to drop reverse edges accordingly to not leak any information into the training phase."
      ],
      "metadata": {
        "id": "2QGdkLAurBq9"
      }
    },
    {
      "cell_type": "code",
      "source": [
        "# For this, we first split the set of edges into\n",
        "# training (80%), validation (10%), and testing edges (10%).\n",
        "# Across the training edges, we use 70% of edges for message passing,\n",
        "# and 30% of edges for supervision.\n",
        "# We further want to generate fixed negative edges for evaluation with a ratio of 2:1.\n",
        "# Negative edges during training will be generated on-the-fly.\n",
        "# We can leverage the `RandomLinkSplit()` transform for this from PyG:\n",
        "transform = T.RandomLinkSplit(\n",
        "    num_val=0.1,  # TODO\n",
        "    num_test=0.1,  # TODO\n",
        "    disjoint_train_ratio=0.3,  # TODO\n",
        "    neg_sampling_ratio=2,  # TODO\n",
        "    add_negative_train_samples=False,  # TODO\n",
        "    edge_types=(\"user\", \"rates\", \"movie\"),\n",
        "    rev_edge_types=(\"movie\", \"rev_rates\", \"user\"), \n",
        ")\n",
        "\n",
        "train_data, val_data, test_data = transform(data)\n",
        "print(\"Training data:\")\n",
        "print(\"==============\")\n",
        "print(train_data)\n",
        "print()\n",
        "print(\"Validation data:\")\n",
        "print(\"================\")\n",
        "print(val_data)\n",
        "\n",
        "assert train_data[\"user\", \"rates\", \"movie\"].num_edges == 56469\n",
        "assert train_data[\"user\", \"rates\", \"movie\"].edge_label_index.size(1) == 24201\n",
        "assert train_data[\"movie\", \"rev_rates\", \"user\"].num_edges == 56469\n",
        "# No negative edges added:\n",
        "assert train_data[\"user\", \"rates\", \"movie\"].edge_label.min() == 1\n",
        "assert train_data[\"user\", \"rates\", \"movie\"].edge_label.max() == 1\n",
        "\n",
        "assert val_data[\"user\", \"rates\", \"movie\"].num_edges == 80670\n",
        "assert val_data[\"user\", \"rates\", \"movie\"].edge_label_index.size(1) == 30249\n",
        "assert val_data[\"movie\", \"rev_rates\", \"user\"].num_edges == 80670\n",
        "# Negative edges with ratio 2:1:\n",
        "assert val_data[\"user\", \"rates\", \"movie\"].edge_label.long().bincount().tolist() == [20166, 10083]"
      ],
      "metadata": {
        "colab": {
          "base_uri": "https://localhost:8080/"
        },
        "id": "rwgNwoa26Eja",
        "outputId": "94fac281-e7b1-4c54-813f-d0129e5a37e0"
      },
      "execution_count": 29,
      "outputs": [
        {
          "output_type": "stream",
          "name": "stdout",
          "text": [
            "Training data:\n",
            "==============\n",
            "HeteroData(\n",
            "  \u001b[1muser\u001b[0m={ node_id=[610] },\n",
            "  \u001b[1mmovie\u001b[0m={\n",
            "    node_id=[9742],\n",
            "    x=[9742, 20]\n",
            "  },\n",
            "  \u001b[1m(user, rates, movie)\u001b[0m={\n",
            "    edge_index=[2, 56469],\n",
            "    edge_label=[24201],\n",
            "    edge_label_index=[2, 24201]\n",
            "  },\n",
            "  \u001b[1m(movie, rev_rates, user)\u001b[0m={ edge_index=[2, 56469] }\n",
            ")\n",
            "\n",
            "Validation data:\n",
            "================\n",
            "HeteroData(\n",
            "  \u001b[1muser\u001b[0m={ node_id=[610] },\n",
            "  \u001b[1mmovie\u001b[0m={\n",
            "    node_id=[9742],\n",
            "    x=[9742, 20]\n",
            "  },\n",
            "  \u001b[1m(user, rates, movie)\u001b[0m={\n",
            "    edge_index=[2, 80670],\n",
            "    edge_label=[30249],\n",
            "    edge_label_index=[2, 30249]\n",
            "  },\n",
            "  \u001b[1m(movie, rev_rates, user)\u001b[0m={ edge_index=[2, 80670] }\n",
            ")\n"
          ]
        }
      ]
    },
    {
      "cell_type": "code",
      "source": [
        "train_data[\"user\", \"rates\", \"movie\"]"
      ],
      "metadata": {
        "id": "WhB0QMPwekuA",
        "outputId": "3b82cfc0-cc87-45e3-d616-a3bdc81eb889",
        "colab": {
          "base_uri": "https://localhost:8080/"
        }
      },
      "execution_count": 30,
      "outputs": [
        {
          "output_type": "execute_result",
          "data": {
            "text/plain": [
              "{'edge_index': tensor([[  51,   46,  371,  ...,   56,  365,  452],\n",
              "        [7258,  443,  275,  ..., 1234, 5917, 1183]]), 'edge_label': tensor([1., 1., 1.,  ..., 1., 1., 1.]), 'edge_label_index': tensor([[ 223,   65,   95,  ...,  418,  461,  509],\n",
              "        [ 383,  509, 2145,  ...,  334, 4012, 5917]])}"
            ]
          },
          "metadata": {},
          "execution_count": 30
        }
      ]
    },
    {
      "cell_type": "markdown",
      "source": [
        "## Defining Mini-batch Loaders\n",
        "\n",
        "We are now ready to create a mini-batch loader that will generate subgraphs that can be used as input into our GNN.\n",
        "While this step is not strictly necessary for small-scale graphs, it is absolutely necessary to apply GNNs on larger graphs that do not fit onto GPU memory otherwise.\n",
        "Here, we make use of the [`loader.LinkNeighborLoader`](https://pytorch-geometric.readthedocs.io/en/latest/modules/loader.html#torch_geometric.loader.LinkNeighborLoader) which samples multiple hops from both ends of a link and creates a subgraph from it.\n",
        "Here, `edge_label_index` serves as the \"seed links\" to start sampling from."
      ],
      "metadata": {
        "id": "prKLwq6RsYoh"
      }
    },
    {
      "cell_type": "code",
      "source": [
        "# In the first hop, we sample at most 20 neighbors.\n",
        "# In the second hop, we sample at most 10 neighbors.\n",
        "# In addition, during training, we want to sample negative edges on-the-fly with\n",
        "# a ratio of 2:1.\n",
        "# We can make use of the `loader.LinkNeighborLoader` from PyG:\n",
        "from torch_geometric.loader import LinkNeighborLoader\n",
        "\n",
        "# Define seed edges:\n",
        "edge_label_index = train_data[\"user\", \"rates\", \"movie\"].edge_label_index\n",
        "edge_label = train_data[\"user\", \"rates\", \"movie\"].edge_label\n",
        "\n",
        "train_loader = LinkNeighborLoader(\n",
        "    data=train_data,  # TODO\n",
        "    num_neighbors=[20,10],  # TODO\n",
        "    neg_sampling_ratio=2,  # TODO\n",
        "    edge_label_index=((\"user\", \"rates\", \"movie\"), edge_label_index),\n",
        "    edge_label=edge_label,\n",
        "    batch_size=128,\n",
        "    shuffle=True,\n",
        ")\n",
        "\n",
        "# Inspect a sample:\n",
        "sampled_data = next(iter(train_loader))\n",
        "\n",
        "print(\"Sampled mini-batch:\")\n",
        "print(\"===================\")\n",
        "print(sampled_data)\n",
        "\n",
        "assert sampled_data[\"user\", \"rates\", \"movie\"].edge_label_index.size(1) == 3 * 128\n",
        "assert sampled_data[\"user\", \"rates\", \"movie\"].edge_label.min() == 0\n",
        "assert sampled_data[\"user\", \"rates\", \"movie\"].edge_label.max() == 1"
      ],
      "metadata": {
        "colab": {
          "base_uri": "https://localhost:8080/"
        },
        "id": "Ogh615ka9I2c",
        "outputId": "27a698d2-8553-4977-b87d-cf80298007d8"
      },
      "execution_count": 31,
      "outputs": [
        {
          "output_type": "stream",
          "name": "stdout",
          "text": [
            "Sampled mini-batch:\n",
            "===================\n",
            "HeteroData(\n",
            "  \u001b[1muser\u001b[0m={\n",
            "    node_id=[609],\n",
            "    n_id=[609]\n",
            "  },\n",
            "  \u001b[1mmovie\u001b[0m={\n",
            "    node_id=[2732],\n",
            "    x=[2732, 20],\n",
            "    n_id=[2732]\n",
            "  },\n",
            "  \u001b[1m(user, rates, movie)\u001b[0m={\n",
            "    edge_index=[2, 17056],\n",
            "    edge_label=[384],\n",
            "    edge_label_index=[2, 384],\n",
            "    e_id=[17056],\n",
            "    input_id=[128]\n",
            "  },\n",
            "  \u001b[1m(movie, rev_rates, user)\u001b[0m={\n",
            "    edge_index=[2, 7571],\n",
            "    e_id=[7571]\n",
            "  }\n",
            ")\n"
          ]
        }
      ]
    },
    {
      "cell_type": "markdown",
      "source": [
        "## Creating a Heterogeneous Link-level GNN\n",
        "\n",
        "We are now ready to create our heterogeneous GNN.\n",
        "The GNN is responsible for learning enriched node representations from the surrounding subgraphs, which can be then used to derive edge-level predictions.\n",
        "For defining our heterogenous GNN, we make use of [`nn.SAGEConv`](https://pytorch-geometric.readthedocs.io/en/latest/modules/nn.html#torch_geometric.nn.conv.SAGEConv) and the [`nn.to_hetero()`](https://pytorch-geometric.readthedocs.io/en/latest/modules/nn.html#torch_geometric.nn.to_hetero_transformer.to_hetero) function, which transforms a GNN defined on homogeneous graphs to be applied on heterogeneous ones.\n",
        "\n",
        "In addition, we define a final link-level classifier, which simply takes both node embeddings of the link we are trying to predict, and applies a dot-product on them.\n",
        "\n",
        "As users do not have any node-level information, we choose to learn their features jointly via a `torch.nn.Embedding` layer. In order to improve the expressiveness of movie features, we do the same for movie nodes, and simply add their shallow embeddings to the pre-defined genre features."
      ],
      "metadata": {
        "id": "uj7biOtatAmG"
      }
    },
    {
      "cell_type": "code",
      "source": [
        "from torch_geometric.nn import SAGEConv, to_hetero\n",
        "\n",
        "\n",
        "class GNN(torch.nn.Module):\n",
        "    def __init__(self, hidden_channels):\n",
        "        super().__init__()\n",
        "\n",
        "        self.conv1 = SAGEConv(hidden_channels, hidden_channels)\n",
        "        self.conv2 = SAGEConv(hidden_channels, hidden_channels)\n",
        "\n",
        "    def forward(self, x: Tensor, edge_index: Tensor) -> Tensor:\n",
        "        # Define a 2-layer GNN computation graph.\n",
        "        # Use a *single* `ReLU` non-linearity in-between.\n",
        "        # TODO:\n",
        "        x = self.conv1(x, edge_index)\n",
        "        x = F.relu(x)\n",
        "        x = self.conv2(x, edge_index)\n",
        "        return x        \n",
        "\n",
        "# Our final classifier applies the dot-product between source and destination\n",
        "# node embeddings to derive edge-level predictions:\n",
        "class Classifier(torch.nn.Module):\n",
        "    def forward(self, x_user: Tensor, x_movie: Tensor, edge_label_index: Tensor) -> Tensor:\n",
        "        # Convert node embeddings to edge-level representations:\n",
        "        edge_feat_user = x_user[edge_label_index[0]]\n",
        "        edge_feat_movie = x_movie[edge_label_index[1]]\n",
        "\n",
        "        # Apply dot-product to get a prediction per supervision edge:\n",
        "        return (edge_feat_user * edge_feat_movie).sum(dim=-1)\n",
        "\n",
        "\n",
        "class Model(torch.nn.Module):\n",
        "    def __init__(self, hidden_channels):\n",
        "        super().__init__()\n",
        "        # Since the dataset does not come with rich features, we also learn two\n",
        "        # embedding matrices for users and movies:\n",
        "        self.movie_lin = torch.nn.Linear(20, hidden_channels)\n",
        "        self.user_emb = torch.nn.Embedding(data[\"user\"].num_nodes, hidden_channels)\n",
        "        self.movie_emb = torch.nn.Embedding(data[\"movie\"].num_nodes, hidden_channels)\n",
        "\n",
        "        # Instantiate homogeneous GNN:\n",
        "        self.gnn = GNN(hidden_channels)\n",
        "\n",
        "        # Convert GNN model into a heterogeneous variant:\n",
        "        self.gnn = to_hetero(self.gnn, metadata=data.metadata())\n",
        "\n",
        "        self.classifier = Classifier()\n",
        "\n",
        "    def forward(self, data: HeteroData) -> Tensor:\n",
        "        x_dict = {\n",
        "          \"user\": self.user_emb(data[\"user\"].node_id),\n",
        "          \"movie\": self.movie_lin(data[\"movie\"].x) + self.movie_emb(data[\"movie\"].node_id),\n",
        "        } \n",
        "\n",
        "        # `x_dict` holds feature matrices of all node types\n",
        "        # `edge_index_dict` holds all edge indices of all edge types\n",
        "        x_dict = self.gnn(x_dict, data.edge_index_dict)\n",
        "\n",
        "        pred = self.classifier(\n",
        "            x_dict[\"user\"],\n",
        "            x_dict[\"movie\"],\n",
        "            data[\"user\", \"rates\", \"movie\"].edge_label_index,\n",
        "        )\n",
        "\n",
        "        return pred\n",
        "\n",
        "        \n",
        "model = Model(hidden_channels=64)\n",
        "\n",
        "print(model)"
      ],
      "metadata": {
        "colab": {
          "base_uri": "https://localhost:8080/"
        },
        "id": "ebsFf-Pr_4LF",
        "outputId": "bfbb723a-4414-4ded-8de6-4c743291c6ae"
      },
      "execution_count": 32,
      "outputs": [
        {
          "output_type": "stream",
          "name": "stdout",
          "text": [
            "Model(\n",
            "  (movie_lin): Linear(in_features=20, out_features=64, bias=True)\n",
            "  (user_emb): Embedding(610, 64)\n",
            "  (movie_emb): Embedding(9742, 64)\n",
            "  (gnn): GraphModule(\n",
            "    (conv1): ModuleDict(\n",
            "      (user__rates__movie): SAGEConv(64, 64, aggr=mean)\n",
            "      (movie__rev_rates__user): SAGEConv(64, 64, aggr=mean)\n",
            "    )\n",
            "    (conv2): ModuleDict(\n",
            "      (user__rates__movie): SAGEConv(64, 64, aggr=mean)\n",
            "      (movie__rev_rates__user): SAGEConv(64, 64, aggr=mean)\n",
            "    )\n",
            "  )\n",
            "  (classifier): Classifier()\n",
            ")\n"
          ]
        }
      ]
    },
    {
      "cell_type": "markdown",
      "source": [
        "## Training a Heterogeneous Link-level GNN\n",
        "\n",
        "Training our GNN is then similar to training any PyTorch model.\n",
        "We move the model to the desired device, and initialize an optimizer that takes care of adjusting model parameters via stochastic gradient descent.\n",
        "\n",
        "The training loop then iterates over our mini-batches, applies the forward computation of the model, computes the loss from ground-truth labels and obtained predictions (here we make use of binary cross entropy), and adjusts model parameters via back-propagation and stochastic gradient descent."
      ],
      "metadata": {
        "id": "05dfew-WuWHN"
      }
    },
    {
      "cell_type": "code",
      "source": [
        "import tqdm\n",
        "import torch.nn.functional as F\n",
        "\n",
        "device = torch.device('cuda' if torch.cuda.is_available() else 'cpu')\n",
        "print(f\"Device: '{device}'\")\n",
        "\n",
        "model = model.to(device)\n",
        "optimizer = torch.optim.Adam(model.parameters(), lr=0.001)\n",
        "\n",
        "for epoch in range(1, 6):\n",
        "    total_loss = total_examples = 0\n",
        "    for sampled_data in tqdm.tqdm(train_loader):\n",
        "        optimizer.zero_grad()\n",
        "        \n",
        "        sampled_data = sampled_data.to(device)\n",
        "\n",
        "        # Run `forward` pass of the model\n",
        "        pred = model(sampled_data)\n",
        "\n",
        "        # Extract ground-truth labels\n",
        "        ground_truth = sampled_data[\"user\", \"rates\", \"movie\"].edge_label.float()\n",
        "\n",
        "        # Apply binary cross entropy via `F.binary_cross_entropy_with_logits(pred, ground_truth)`\n",
        "        loss = F.binary_cross_entropy_with_logits(pred, ground_truth)\n",
        "\n",
        "        loss.backward()\n",
        "        optimizer.step()\n",
        "        optimizer.zero_grad()\n",
        "\n",
        "        total_loss += float(loss) * pred.numel()\n",
        "        total_examples += pred.numel()\n",
        "        # TODO: Move `sampled_data` to the respective `device`\n",
        "        # TODO: Run `forward` pass of the model\n",
        "        # TODO: Apply binary cross entropy via\n",
        "        # `F.binary_cross_entropy_with_logits(pred, ground_truth)`\n",
        "        # raise NotImplementedError      \n",
        "    print(f\"Epoch: {epoch:03d}, Loss: {total_loss / total_examples:.4f}\")"
      ],
      "metadata": {
        "colab": {
          "base_uri": "https://localhost:8080/"
        },
        "id": "OqLuXEcrAMru",
        "outputId": "5518c8b1-46a8-488b-e2ed-d0bf8ddddcda"
      },
      "execution_count": 33,
      "outputs": [
        {
          "output_type": "stream",
          "name": "stdout",
          "text": [
            "Device: 'cuda'\n"
          ]
        },
        {
          "output_type": "stream",
          "name": "stderr",
          "text": [
            "100%|██████████| 190/190 [00:04<00:00, 42.22it/s] \n"
          ]
        },
        {
          "output_type": "stream",
          "name": "stdout",
          "text": [
            "Epoch: 001, Loss: 0.4424\n"
          ]
        },
        {
          "output_type": "stream",
          "name": "stderr",
          "text": [
            "100%|██████████| 190/190 [00:01<00:00, 133.33it/s]\n"
          ]
        },
        {
          "output_type": "stream",
          "name": "stdout",
          "text": [
            "Epoch: 002, Loss: 0.3486\n"
          ]
        },
        {
          "output_type": "stream",
          "name": "stderr",
          "text": [
            "100%|██████████| 190/190 [00:01<00:00, 135.55it/s]\n"
          ]
        },
        {
          "output_type": "stream",
          "name": "stdout",
          "text": [
            "Epoch: 003, Loss: 0.3282\n"
          ]
        },
        {
          "output_type": "stream",
          "name": "stderr",
          "text": [
            "100%|██████████| 190/190 [00:01<00:00, 121.33it/s]\n"
          ]
        },
        {
          "output_type": "stream",
          "name": "stdout",
          "text": [
            "Epoch: 004, Loss: 0.3126\n"
          ]
        },
        {
          "output_type": "stream",
          "name": "stderr",
          "text": [
            "100%|██████████| 190/190 [00:01<00:00, 99.49it/s]"
          ]
        },
        {
          "output_type": "stream",
          "name": "stdout",
          "text": [
            "Epoch: 005, Loss: 0.2990\n"
          ]
        },
        {
          "output_type": "stream",
          "name": "stderr",
          "text": [
            "\n"
          ]
        }
      ]
    },
    {
      "cell_type": "code",
      "source": [
        "val_data[\"user\", \"rates\", \"movie\"].edge_label[:20]"
      ],
      "metadata": {
        "id": "isZZa5rhPrhF",
        "outputId": "cf21b69d-e91d-4d2b-8ae2-0751fb3f8fea",
        "colab": {
          "base_uri": "https://localhost:8080/"
        }
      },
      "execution_count": 62,
      "outputs": [
        {
          "output_type": "execute_result",
          "data": {
            "text/plain": [
              "tensor([1., 1., 1., 1., 1., 1., 1., 1., 1., 1., 1., 1., 1., 1., 1., 1., 1., 1.,\n",
              "        1., 1.])"
            ]
          },
          "metadata": {},
          "execution_count": 62
        }
      ]
    },
    {
      "cell_type": "markdown",
      "source": [
        "## Evaluating a Heterogeneous Link-level GNN\n",
        "\n",
        "After training, we evaluate our model on useen data coming from the validation set.\n",
        "For this, we define a new `LinkNeighborLoader` (which now iterates over the edges in the validation set), obtain the predictions on validation edges by running the model, and finally evaluate the performance of the model by computing the AUC score over the set of predictions and their corresponding ground-truth edges (including both positive and negative edges)."
      ],
      "metadata": {
        "id": "Yq-I2xaYueF0"
      }
    },
    {
      "cell_type": "code",
      "source": [
        "# Define the validation seed edges:\n",
        "edge_label_index = val_data[\"user\", \"rates\", \"movie\"].edge_label_index\n",
        "edge_label = val_data[\"user\", \"rates\", \"movie\"].edge_label\n",
        "\n",
        "val_loader = LinkNeighborLoader(\n",
        "    data=val_data,\n",
        "    num_neighbors=[20, 10],\n",
        "    edge_label_index=((\"user\", \"rates\", \"movie\"), edge_label_index),\n",
        "    edge_label=edge_label,\n",
        "    batch_size=3 * 128,\n",
        "    shuffle=False,\n",
        ")\n",
        "\n",
        "sampled_data = next(iter(val_loader))\n",
        "\n",
        "print(\"Sampled mini-batch:\")\n",
        "print(\"===================\")\n",
        "print(sampled_data)\n",
        "\n",
        "assert sampled_data[\"user\", \"rates\", \"movie\"].edge_label_index.size(1) == 3 * 128\n",
        "assert sampled_data[\"user\", \"rates\", \"movie\"].edge_label.min() >= 0\n",
        "assert sampled_data[\"user\", \"rates\", \"movie\"].edge_label.max() <= 1"
      ],
      "metadata": {
        "colab": {
          "base_uri": "https://localhost:8080/"
        },
        "id": "ZIrRn9YoNllj",
        "outputId": "621e2a0f-cedf-45d4-d0a2-c18843486409"
      },
      "execution_count": 55,
      "outputs": [
        {
          "output_type": "stream",
          "name": "stdout",
          "text": [
            "Sampled mini-batch:\n",
            "===================\n",
            "HeteroData(\n",
            "  \u001b[1muser\u001b[0m={\n",
            "    node_id=[608],\n",
            "    n_id=[608]\n",
            "  },\n",
            "  \u001b[1mmovie\u001b[0m={\n",
            "    node_id=[2688],\n",
            "    x=[2688, 20],\n",
            "    n_id=[2688]\n",
            "  },\n",
            "  \u001b[1m(user, rates, movie)\u001b[0m={\n",
            "    edge_index=[2, 19128],\n",
            "    edge_label=[384],\n",
            "    edge_label_index=[2, 384],\n",
            "    e_id=[19128],\n",
            "    input_id=[384]\n",
            "  },\n",
            "  \u001b[1m(movie, rev_rates, user)\u001b[0m={\n",
            "    edge_index=[2, 7748],\n",
            "    e_id=[7748]\n",
            "  }\n",
            ")\n"
          ]
        }
      ]
    },
    {
      "cell_type": "code",
      "source": [
        "# edge_label_index.shape\n",
        "# sampled_data[\"user\", \"rates\", \"movie\"].edge_label_index[0].shape\n",
        "sampled_data[\"user\", \"rates\", \"movie\"].edge_label_index"
      ],
      "metadata": {
        "id": "KpsBf-LraOSc",
        "outputId": "00737bf8-69cd-41e8-c3a0-4da1b51d66bd",
        "colab": {
          "base_uri": "https://localhost:8080/"
        }
      },
      "execution_count": 58,
      "outputs": [
        {
          "output_type": "execute_result",
          "data": {
            "text/plain": [
              "tensor([[203, 161, 119, 125, 180, 139, 103, 113, 165,  22, 200,   5, 111,  45,\n",
              "         139, 137, 139, 203,  88,  97,  94,  99, 159, 160, 205, 103, 118, 207,\n",
              "         193,  50, 188, 163, 194, 152,  44,  22, 184,   2,  88,  71,  99, 205,\n",
              "         108,  91,  11,  11,  84,  42, 144, 140, 175,  17, 148,   4, 147, 168,\n",
              "           7,  82,  20, 199, 113, 194, 130,  38, 169,  71,  72, 121, 104,  62,\n",
              "          83, 106,  67,  28,  14,  30, 199,  10, 102, 143,  68,  22, 133,   7,\n",
              "         149, 127, 184,  77, 207,  71, 153,  83, 110, 115,  25,   9,  70, 126,\n",
              "         161, 139,  48,  13, 175,  26, 165, 162,  25, 151,  96,  60,  90,  12,\n",
              "          46, 112,  82, 203,  57, 202, 152, 152,   7,  31, 204, 155,  63,  66,\n",
              "         145,  88,  58,  80,  93, 179,  28, 176,   2, 192, 205,  51,  97, 171,\n",
              "          70, 186, 198, 164, 199,  34, 113,  60, 152,  15, 176, 161, 142, 117,\n",
              "         106, 178,  59, 147, 105, 134,  74,  26,   8, 114,  87, 182, 202, 139,\n",
              "           0, 207, 191, 105, 207,  14, 139, 202, 197, 181, 195,  16, 139, 161,\n",
              "           7, 152,  78,  84,  61, 152, 172, 104, 202,  35, 207,   0,  57,   9,\n",
              "          81, 127,  36, 120,  17,  87, 199, 199,  70,  66, 123,  58, 152,   6,\n",
              "          53, 152,  27, 199, 199, 104,  75, 124, 101, 199,   3,  52, 129,  98,\n",
              "         187, 183,  49,  75,   8,  55, 115,  92, 161,  64, 185, 162, 202, 161,\n",
              "         139, 139,  85, 139, 207, 128, 158,  58, 207,  97, 109, 102,   1,  79,\n",
              "         132,  55, 129, 133,  55,  49, 106, 110,  37,  25,  95, 141,  90,  91,\n",
              "          68,  86, 152,  67,  40, 207,  51,  21, 102,  54, 110, 199,  51, 107,\n",
              "         202,  76,  35,  65, 123, 195, 100,  24, 156, 154,  26, 146,  56,   1,\n",
              "         139,   7, 111, 172, 178, 119, 109,   2,  97, 136,  18,  25, 135, 122,\n",
              "         162, 177,  19,  42, 127,  38,  85, 195, 190,  14, 161, 202,  96, 177,\n",
              "          43, 152, 201, 139, 147, 157,  28,   5,  81,  91,  12, 116,   7, 110,\n",
              "          49, 106, 166, 207, 207, 173,  32,  70,  39, 155,  60, 117, 202,  37,\n",
              "         207,  23,  69,  70, 197,  29, 196, 120, 167, 193, 184, 170,  89, 121,\n",
              "          79,  47, 206, 107, 165,  41, 174, 131,  33,  87, 150, 110, 138, 163,\n",
              "          73, 195, 189,  47,  89, 203],\n",
              "        [118, 213, 188,  13, 334, 220,  99, 133,   6, 190,  32, 181,  31, 155,\n",
              "         319, 323, 168, 131, 182,  95, 246, 238, 253,  54, 226,  25, 164, 332,\n",
              "         166, 110, 300, 215, 242,  91, 113,  50,  25, 245, 123, 244, 161, 148,\n",
              "           1, 191, 261, 223, 106, 351, 204, 141, 125,  84, 255,  44, 283,  53,\n",
              "         298,  12, 145, 115, 173,   2,  46, 235,  29, 229,  36, 302, 265, 152,\n",
              "         282,  74, 231, 289,  81,  42, 303, 172, 193, 112, 211,  61, 227, 337,\n",
              "         212,  27, 330, 228,  96, 254, 183, 276,  65, 124, 276, 307, 280, 277,\n",
              "           3, 352, 109, 134, 350, 206, 287, 119,  30, 306,  88,  80,  70, 214,\n",
              "          48,   5, 159, 225, 311,  51, 237, 176,  77, 335, 117, 121, 249, 279,\n",
              "          49,  14, 177, 324,  47,  75,  20, 202, 326,  62, 180, 157,   8, 140,\n",
              "         278,  69, 139, 167, 184, 233, 126, 267, 348, 165, 130, 195, 316, 275,\n",
              "         207, 309,  49,  89, 174,  66, 169, 136, 274, 114,  86, 162,  16, 203,\n",
              "          78, 299, 154, 200, 219, 108, 214, 205, 128,  63, 132,   7,  30, 266,\n",
              "         280, 294, 159, 276, 178, 104, 340, 236,  18,  67, 179, 143, 296, 210,\n",
              "         147, 262, 292, 217, 142, 263, 129,  68, 257,  48,  40, 256, 192,  58,\n",
              "         224, 322, 141, 328, 209, 120,  98,  41, 111, 284, 107,  26,   4,   0,\n",
              "         310,  21, 342, 102, 241,  77,  72, 325,  52,  46,  28, 312, 151,  17,\n",
              "         149, 137,  92, 216, 318, 189, 160, 231,   4, 153,  55, 146,  82, 297,\n",
              "         247, 127, 329, 103, 105, 349, 230, 315, 286, 248,  38, 201, 233, 339,\n",
              "          94, 202, 347, 138,  85, 346, 281,  69, 187,  87,  64, 345,  45, 260,\n",
              "         170, 129,  43,  39, 122,  35,   9, 204, 185,  51,  76, 301,  15,  19,\n",
              "          57, 331, 156, 317, 251,  71,  23, 336, 272,  90, 320, 222, 101,  59,\n",
              "         264, 270, 100, 259, 269, 158,  73, 262, 293, 321, 250, 135, 196, 342,\n",
              "         314, 291,  34, 116, 218, 232,  93, 109, 171, 333, 163, 239,  33,  10,\n",
              "         313, 243, 308, 341, 240,  63, 198, 199,  79,  11, 175, 343, 186, 150,\n",
              "         344,  29, 268, 144, 197, 144, 271,  74,  97,  46, 288, 208, 221, 338,\n",
              "         252, 290,  24, 234, 285, 194, 353,  59,  83, 304,  22, 305,  37,  56,\n",
              "         273,  60, 327, 208, 258, 295]])"
            ]
          },
          "metadata": {},
          "execution_count": 58
        }
      ]
    },
    {
      "cell_type": "code",
      "source": [
        "from sklearn.metrics import roc_auc_score\n",
        "\n",
        "preds = []\n",
        "ground_truths = []\n",
        "for sampled_data1 in tqdm.tqdm(val_loader):\n",
        "    with torch.no_grad():\n",
        "        sampled_data1 = sampled_data1.to(device)        \n",
        "        pred = model(sampled_data1)\n",
        "        ground_truth = sampled_data1['user', 'rates', 'movie'].edge_label.view(-1)\n",
        "        preds.append(pred)\n",
        "        ground_truths.append(ground_truth)\n",
        "preds = torch.cat(preds, dim=0).cpu().numpy()\n",
        "ground_truths = torch.cat(ground_truths, dim=0).cpu().numpy()\n",
        "auc = roc_auc_score(ground_truths, preds)\n",
        "print()\n",
        "print(f\"Validation AUC: {auc:.4f}\")"
      ],
      "metadata": {
        "id": "Vi25Z7lFPPjc",
        "colab": {
          "base_uri": "https://localhost:8080/"
        },
        "outputId": "8b240d46-b107-42b6-eadd-10e7890ec926"
      },
      "execution_count": 70,
      "outputs": [
        {
          "output_type": "stream",
          "name": "stderr",
          "text": [
            "100%|██████████| 79/79 [00:00<00:00, 194.22it/s]\n"
          ]
        },
        {
          "output_type": "stream",
          "name": "stdout",
          "text": [
            "\n",
            "Validation AUC: 0.9290\n"
          ]
        }
      ]
    },
    {
      "cell_type": "code",
      "source": [
        "sampled_data1"
      ],
      "metadata": {
        "id": "99YcoFJ8hj6O",
        "outputId": "71b25374-f592-42e2-db5a-2e125e1b3ecd",
        "colab": {
          "base_uri": "https://localhost:8080/"
        }
      },
      "execution_count": 75,
      "outputs": [
        {
          "output_type": "execute_result",
          "data": {
            "text/plain": [
              "HeteroData(\n",
              "  \u001b[1muser\u001b[0m={\n",
              "    node_id=[608],\n",
              "    n_id=[608]\n",
              "  },\n",
              "  \u001b[1mmovie\u001b[0m={\n",
              "    node_id=[2587],\n",
              "    x=[2587, 20],\n",
              "    n_id=[2587]\n",
              "  },\n",
              "  \u001b[1m(user, rates, movie)\u001b[0m={\n",
              "    edge_index=[2, 16785],\n",
              "    edge_label=[297],\n",
              "    edge_label_index=[2, 297],\n",
              "    e_id=[16785],\n",
              "    input_id=[297]\n",
              "  },\n",
              "  \u001b[1m(movie, rev_rates, user)\u001b[0m={\n",
              "    edge_index=[2, 6733],\n",
              "    e_id=[6733]\n",
              "  }\n",
              ")"
            ]
          },
          "metadata": {},
          "execution_count": 75
        }
      ]
    },
    {
      "cell_type": "code",
      "source": [
        "sampled_data1[(\"user\", \"rates\", \"movie\")]"
      ],
      "metadata": {
        "id": "WdcVziRtO24l",
        "outputId": "74b4c6f5-38bb-42e4-991d-c3fe996fcccc",
        "colab": {
          "base_uri": "https://localhost:8080/"
        }
      },
      "execution_count": 74,
      "outputs": [
        {
          "output_type": "execute_result",
          "data": {
            "text/plain": [
              "{'edge_index': tensor([[ 237,  238,  239,  ...,  307,  338,  135],\n",
              "        [   0,    0,    0,  ..., 2117, 2117, 2117]], device='cuda:0'), 'edge_label': tensor([0., 0., 0., 0., 0., 0., 0., 0., 0., 0., 0., 0., 0., 0., 0., 0., 0., 0., 0., 0., 0., 0., 0., 0.,\n",
              "        0., 0., 0., 0., 0., 0., 0., 0., 0., 0., 0., 0., 0., 0., 0., 0., 0., 0., 0., 0., 0., 0., 0., 0.,\n",
              "        0., 0., 0., 0., 0., 0., 0., 0., 0., 0., 0., 0., 0., 0., 0., 0., 0., 0., 0., 0., 0., 0., 0., 0.,\n",
              "        0., 0., 0., 0., 0., 0., 0., 0., 0., 0., 0., 0., 0., 0., 0., 0., 0., 0., 0., 0., 0., 0., 0., 0.,\n",
              "        0., 0., 0., 0., 0., 0., 0., 0., 0., 0., 0., 0., 0., 0., 0., 0., 0., 0., 0., 0., 0., 0., 0., 0.,\n",
              "        0., 0., 0., 0., 0., 0., 0., 0., 0., 0., 0., 0., 0., 0., 0., 0., 0., 0., 0., 0., 0., 0., 0., 0.,\n",
              "        0., 0., 0., 0., 0., 0., 0., 0., 0., 0., 0., 0., 0., 0., 0., 0., 0., 0., 0., 0., 0., 0., 0., 0.,\n",
              "        0., 0., 0., 0., 0., 0., 0., 0., 0., 0., 0., 0., 0., 0., 0., 0., 0., 0., 0., 0., 0., 0., 0., 0.,\n",
              "        0., 0., 0., 0., 0., 0., 0., 0., 0., 0., 0., 0., 0., 0., 0., 0., 0., 0., 0., 0., 0., 0., 0., 0.,\n",
              "        0., 0., 0., 0., 0., 0., 0., 0., 0., 0., 0., 0., 0., 0., 0., 0., 0., 0., 0., 0., 0., 0., 0., 0.,\n",
              "        0., 0., 0., 0., 0., 0., 0., 0., 0., 0., 0., 0., 0., 0., 0., 0., 0., 0., 0., 0., 0., 0., 0., 0.,\n",
              "        0., 0., 0., 0., 0., 0., 0., 0., 0., 0., 0., 0., 0., 0., 0., 0., 0., 0., 0., 0., 0., 0., 0., 0.,\n",
              "        0., 0., 0., 0., 0., 0., 0., 0., 0.], device='cuda:0'), 'edge_label_index': tensor([[101, 194, 140,  85, 232,  97, 140, 211,  52, 194,  84, 110, 151,  99,\n",
              "         192,  79, 202, 141, 234,  66, 170, 122,  15, 189,  70, 111,  29,  96,\n",
              "           1, 229,  50,  38,  31,   4, 106,  25, 147, 229,  24, 146,  87, 189,\n",
              "         100, 153, 174,  50, 182,  69,  14, 187, 113,  21,  97, 204,  77, 191,\n",
              "           7,  72, 132,  56, 163,   6, 185,  66, 183,  36, 208, 149,  33,  68,\n",
              "         107, 112, 149, 221,  19,  98, 186, 147,  48, 196, 161,  23, 154, 154,\n",
              "         116, 161, 153, 123,  37, 137,  71,  82, 129,  94,  41, 133,  40, 180,\n",
              "         184,  91, 230, 112,  89,  95,  73, 196, 164,  48, 177,  20,   2, 214,\n",
              "         141,  35, 219, 105, 224, 231, 134,  10, 198,  60, 234, 188, 158, 155,\n",
              "          63, 115,  40, 159,  11, 165,  46,  62,  64, 142, 139, 103,   7, 109,\n",
              "         145, 160,  12, 144,  61,  27, 118, 114,  28,  65,  30, 135,  80, 119,\n",
              "          61,  74, 197, 190, 195,   9,  91,  34, 173,  28, 181, 161,  49, 176,\n",
              "          26,  32,  54, 223,  58,  43, 143,  17, 127, 166, 124,  34,  42, 213,\n",
              "         150, 162, 146,  39,   3, 138, 193,  93, 108, 217, 114,  90,  78, 148,\n",
              "         113, 118,  92, 116, 220, 225, 194,  69,  26,  55,  81, 204, 172, 130,\n",
              "         204, 108,  58,  97, 125,  88,  83,  36, 168, 104, 126, 197, 208,  44,\n",
              "          47, 220,  18, 228, 128, 201, 215, 175,  59,  76,  64, 169, 207, 209,\n",
              "           8,  75, 166,   2, 236,  43, 210,  86, 222, 179,  30, 205,  45, 121,\n",
              "         120, 233,  67, 214, 199, 190, 101, 200,  53,  16, 171, 218, 117,  20,\n",
              "         156,  39,  69,  22, 216,  26, 235,   0, 102, 167, 136, 226, 184,  13,\n",
              "         178,  51,   5,  57, 212,  86,  44, 203, 233, 185, 131, 152, 206, 157,\n",
              "          78,  44, 227],\n",
              "        [160, 260, 263,  91,  82, 121,  62, 210, 164, 258, 147, 229,  35, 158,\n",
              "         221,  40, 211, 199,  19, 149,  13, 212,  70, 234, 190, 207, 292, 105,\n",
              "          48,  27, 243, 113,  75,  90, 275, 183,  42, 135, 253, 232, 277,  86,\n",
              "          49, 163, 125, 120,  85,  78, 175,  99,  39, 281, 182, 247, 257,  12,\n",
              "         250, 154, 248, 189, 187, 157, 231, 106, 134, 104, 242,   1,   6, 235,\n",
              "          69, 170, 177,  87,  81, 287, 241, 131,  74,  97, 152, 195,  28, 194,\n",
              "          76, 146,  59, 145, 116, 237,  44, 238, 159,  33,   8, 119, 208, 151,\n",
              "          18, 272, 213, 267,  38, 271, 148,  60, 155,  47, 203,  98,  80,  10,\n",
              "         209, 291,  23,  79,  72, 188, 205, 192, 218, 184, 269, 169,  63, 226,\n",
              "          84, 261, 138, 130, 246,  53,  36, 245,  83, 123, 117, 198, 179,  95,\n",
              "          68, 196,  37,  45, 216, 202, 107,  88, 286, 268,  94,  15, 171, 266,\n",
              "           7, 219, 112, 100, 262, 162, 127, 200, 172,  65,  32, 252, 193, 279,\n",
              "         225,  57, 126,  55, 285, 140, 276,  25,  77, 228, 118, 137,  34,  52,\n",
              "          56, 204,  50,  64,  67, 153, 136, 174, 124, 176, 191, 103,   0, 270,\n",
              "         283, 128, 222,   2,  21,  93, 236, 240,  61, 197, 161, 227,  41, 110,\n",
              "          24, 289, 166, 114, 186, 165,  22,  89,  26, 251,  29, 206,  71, 143,\n",
              "         198,  30, 122,  43, 178, 249, 141, 139, 278,  54, 180, 273, 290, 174,\n",
              "          31, 254,  14, 101, 215, 224, 214,   3, 185,  51, 259, 220, 167, 264,\n",
              "         156, 233, 217, 108, 223,  46,  20, 244, 102, 168, 173,  58, 132, 115,\n",
              "          17,  11,  73, 150, 129, 201, 109, 133, 181, 265, 142, 288, 284, 294,\n",
              "          92,  66, 280, 230,   5, 239, 274,  16, 293, 255, 282,   9,   4, 111,\n",
              "         144, 256,  96]], device='cuda:0'), 'e_id': tensor([2526, 2527, 2528,  ..., 9509, 9510, 9511], device='cuda:0'), 'input_id': tensor([29952, 29953, 29954, 29955, 29956, 29957, 29958, 29959, 29960, 29961,\n",
              "        29962, 29963, 29964, 29965, 29966, 29967, 29968, 29969, 29970, 29971,\n",
              "        29972, 29973, 29974, 29975, 29976, 29977, 29978, 29979, 29980, 29981,\n",
              "        29982, 29983, 29984, 29985, 29986, 29987, 29988, 29989, 29990, 29991,\n",
              "        29992, 29993, 29994, 29995, 29996, 29997, 29998, 29999, 30000, 30001,\n",
              "        30002, 30003, 30004, 30005, 30006, 30007, 30008, 30009, 30010, 30011,\n",
              "        30012, 30013, 30014, 30015, 30016, 30017, 30018, 30019, 30020, 30021,\n",
              "        30022, 30023, 30024, 30025, 30026, 30027, 30028, 30029, 30030, 30031,\n",
              "        30032, 30033, 30034, 30035, 30036, 30037, 30038, 30039, 30040, 30041,\n",
              "        30042, 30043, 30044, 30045, 30046, 30047, 30048, 30049, 30050, 30051,\n",
              "        30052, 30053, 30054, 30055, 30056, 30057, 30058, 30059, 30060, 30061,\n",
              "        30062, 30063, 30064, 30065, 30066, 30067, 30068, 30069, 30070, 30071,\n",
              "        30072, 30073, 30074, 30075, 30076, 30077, 30078, 30079, 30080, 30081,\n",
              "        30082, 30083, 30084, 30085, 30086, 30087, 30088, 30089, 30090, 30091,\n",
              "        30092, 30093, 30094, 30095, 30096, 30097, 30098, 30099, 30100, 30101,\n",
              "        30102, 30103, 30104, 30105, 30106, 30107, 30108, 30109, 30110, 30111,\n",
              "        30112, 30113, 30114, 30115, 30116, 30117, 30118, 30119, 30120, 30121,\n",
              "        30122, 30123, 30124, 30125, 30126, 30127, 30128, 30129, 30130, 30131,\n",
              "        30132, 30133, 30134, 30135, 30136, 30137, 30138, 30139, 30140, 30141,\n",
              "        30142, 30143, 30144, 30145, 30146, 30147, 30148, 30149, 30150, 30151,\n",
              "        30152, 30153, 30154, 30155, 30156, 30157, 30158, 30159, 30160, 30161,\n",
              "        30162, 30163, 30164, 30165, 30166, 30167, 30168, 30169, 30170, 30171,\n",
              "        30172, 30173, 30174, 30175, 30176, 30177, 30178, 30179, 30180, 30181,\n",
              "        30182, 30183, 30184, 30185, 30186, 30187, 30188, 30189, 30190, 30191,\n",
              "        30192, 30193, 30194, 30195, 30196, 30197, 30198, 30199, 30200, 30201,\n",
              "        30202, 30203, 30204, 30205, 30206, 30207, 30208, 30209, 30210, 30211,\n",
              "        30212, 30213, 30214, 30215, 30216, 30217, 30218, 30219, 30220, 30221,\n",
              "        30222, 30223, 30224, 30225, 30226, 30227, 30228, 30229, 30230, 30231,\n",
              "        30232, 30233, 30234, 30235, 30236, 30237, 30238, 30239, 30240, 30241,\n",
              "        30242, 30243, 30244, 30245, 30246, 30247, 30248], device='cuda:0')}"
            ]
          },
          "metadata": {},
          "execution_count": 74
        }
      ]
    },
    {
      "cell_type": "code",
      "source": [],
      "metadata": {
        "id": "flLlZRQHhBVk"
      },
      "execution_count": null,
      "outputs": []
    }
  ]
}